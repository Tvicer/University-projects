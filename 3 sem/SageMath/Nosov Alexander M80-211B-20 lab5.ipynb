{
 "cells": [
  {
   "cell_type": "markdown",
   "metadata": {},
   "source": [
    "Задача 5 Носов Александр Вариант 1"
   ]
  },
  {
   "cell_type": "markdown",
   "metadata": {},
   "source": [
    "Алгебраические уравнения 4-й степени методом Феррари"
   ]
  },
  {
   "cell_type": "code",
   "execution_count": 1,
   "metadata": {},
   "outputs": [
    {
     "data": {
      "text/html": [
       "<html><script type=\"math/tex; mode=display\">\\newcommand{\\Bold}[1]{\\mathbf{#1}}x^{4} - \\frac{1}{4} \\, x^{3} + \\frac{3}{4} \\, x^{2} - \\frac{7}{4} \\, x + \\frac{5}{4}</script></html>"
      ],
      "text/latex": [
       "\\begin{math}\n",
       "\\newcommand{\\Bold}[1]{\\mathbf{#1}}x^{4} - \\frac{1}{4} \\, x^{3} + \\frac{3}{4} \\, x^{2} - \\frac{7}{4} \\, x + \\frac{5}{4}\n",
       "\\end{math}"
      ],
      "text/plain": [
       "x^4 - 1/4*x^3 + 3/4*x^2 - 7/4*x + 5/4"
      ]
     },
     "metadata": {},
     "output_type": "display_data"
    }
   ],
   "source": [
    "f(x) = (4*x**4 - x**3 + 3*x**2 - 7*x + 5)/4\n",
    "show(f(x))"
   ]
  },
  {
   "cell_type": "code",
   "execution_count": 2,
   "metadata": {},
   "outputs": [
    {
     "data": {
      "image/png": "[encoded data removed]",
      "text/plain": [
       "Graphics object consisting of 1 graphics primitive"
      ]
     },
     "metadata": {},
     "output_type": "display_data"
    }
   ],
   "source": [
    "plot1 = plot(f, (-2, 2))\n",
    "show(plot1)"
   ]
  },
  {
   "cell_type": "markdown",
   "metadata": {},
   "source": [
    "Сделаем замену $x = z - \\frac{a}{4}$<br>\n",
    "$x = z + \\frac{1}{16}$"
   ]
  },
  {
   "cell_type": "code",
   "execution_count": 3,
   "metadata": {},
   "outputs": [
    {
     "data": {
      "text/html": [
       "<html><script type=\"math/tex; mode=display\">\\newcommand{\\Bold}[1]{\\mathbf{#1}}z^{4} + \\frac{93}{128} \\, z^{2} - \\frac{849}{512} \\, z + \\frac{74941}{65536}</script></html>"
      ],
      "text/latex": [
       "\\begin{math}\n",
       "\\newcommand{\\Bold}[1]{\\mathbf{#1}}z^{4} + \\frac{93}{128} \\, z^{2} - \\frac{849}{512} \\, z + \\frac{74941}{65536}\n",
       "\\end{math}"
      ],
      "text/plain": [
       "z^4 + 93/128*z^2 - 849/512*z + 74941/65536"
      ]
     },
     "metadata": {},
     "output_type": "display_data"
    }
   ],
   "source": [
    "var(\"z\")\n",
    "fz = f(x = z + 1/16)\n",
    "show(fz.expand())"
   ]
  },
  {
   "cell_type": "markdown",
   "metadata": {},
   "source": [
    "$z^4 + p\\cdot z^2 + q\\cdot z + r = 0$<br>\n",
    "Отсюда:<br>"
   ]
  },
  {
   "cell_type": "code",
   "execution_count": 4,
   "metadata": {},
   "outputs": [],
   "source": [
    "p = 93/128\n",
    "q = -849/512\n",
    "r = 74941/65536"
   ]
  },
  {
   "cell_type": "code",
   "execution_count": 5,
   "metadata": {},
   "outputs": [
    {
     "data": {
      "text/html": [
       "<html><script type=\"math/tex; mode=display\">\\newcommand{\\Bold}[1]{\\mathbf{#1}}2 \\, s^{3} - \\frac{93}{128} \\, s^{2} - \\frac{74941}{32768} \\, s + \\frac{1203105}{8388608}</script></html>"
      ],
      "text/latex": [
       "\\begin{math}\n",
       "\\newcommand{\\Bold}[1]{\\mathbf{#1}}2 \\, s^{3} - \\frac{93}{128} \\, s^{2} - \\frac{74941}{32768} \\, s + \\frac{1203105}{8388608}\n",
       "\\end{math}"
      ],
      "text/plain": [
       "2*s^3 - 93/128*s^2 - 74941/32768*s + 1203105/8388608"
      ]
     },
     "metadata": {},
     "output_type": "display_data"
    }
   ],
   "source": [
    "var(\"s\")\n",
    "fs = 2*s**3 - p*s**2 - 2*r*s + r*p - (q**2)/4\n",
    "show(fs)"
   ]
  },
  {
   "cell_type": "code",
   "execution_count": 6,
   "metadata": {},
   "outputs": [
    {
     "data": {
      "text/html": [
       "<html><script type=\"math/tex; mode=display\">\\newcommand{\\Bold}[1]{\\mathbf{#1}}\\verb|s1|\\phantom{\\verb!x!}\\verb|=| 0.06171 + 7.629 \\times 10^{-6}i</script></html>"
      ],
      "text/latex": [
       "\\begin{math}\n",
       "\\newcommand{\\Bold}[1]{\\mathbf{#1}}\\verb|s1|\\phantom{\\verb!x!}\\verb|=| 0.06171 + 7.629 \\times 10^{-6}i\n",
       "\\end{math}"
      ],
      "text/plain": [
       "'s1 = ' 0.06171 + 7.629e-6*I"
      ]
     },
     "metadata": {},
     "output_type": "display_data"
    },
    {
     "data": {
      "text/html": [
       "<html><script type=\"math/tex; mode=display\">\\newcommand{\\Bold}[1]{\\mathbf{#1}}\\verb|s2|\\phantom{\\verb!x!}\\verb|=| -0.9377</script></html>"
      ],
      "text/latex": [
       "\\begin{math}\n",
       "\\newcommand{\\Bold}[1]{\\mathbf{#1}}\\verb|s2|\\phantom{\\verb!x!}\\verb|=| -0.9377\n",
       "\\end{math}"
      ],
      "text/plain": [
       "'s2 = ' -0.9377"
      ]
     },
     "metadata": {},
     "output_type": "display_data"
    },
    {
     "data": {
      "text/html": [
       "<html><script type=\"math/tex; mode=display\">\\newcommand{\\Bold}[1]{\\mathbf{#1}}\\verb|s3|\\phantom{\\verb!x!}\\verb|=| 1.239 - 3.815 \\times 10^{-6}i</script></html>"
      ],
      "text/latex": [
       "\\begin{math}\n",
       "\\newcommand{\\Bold}[1]{\\mathbf{#1}}\\verb|s3|\\phantom{\\verb!x!}\\verb|=| 1.239 - 3.815 \\times 10^{-6}i\n",
       "\\end{math}"
      ],
      "text/plain": [
       "'s3 = ' 1.239 - 3.815e-6*I"
      ]
     },
     "metadata": {},
     "output_type": "display_data"
    }
   ],
   "source": [
    "sols = solve(fs, s)\n",
    "\n",
    "for i in range(3):\n",
    "    show(f\"s{i+1} = \", sols[i].rhs().n(digits=4))\n",
    "    \n",
    "sn = sols[1].rhs().n(digits=4)"
   ]
  },
  {
   "cell_type": "markdown",
   "metadata": {},
   "source": [
    "Запомним s, неравный 0"
   ]
  },
  {
   "cell_type": "code",
   "execution_count": 7,
   "metadata": {},
   "outputs": [
    {
     "data": {
      "text/html": [
       "<html><script type=\"math/tex; mode=display\">\\newcommand{\\Bold}[1]{\\mathbf{#1}}\\verb|y1|\\phantom{\\verb!x!}\\verb|=| -1.662 + 1.195i</script></html>"
      ],
      "text/latex": [
       "\\begin{math}\n",
       "\\newcommand{\\Bold}[1]{\\mathbf{#1}}\\verb|y1|\\phantom{\\verb!x!}\\verb|=| -1.662 + 1.195i\n",
       "\\end{math}"
      ],
      "text/plain": [
       "'y1 = ' -1.662 + 1.195*I"
      ]
     },
     "metadata": {},
     "output_type": "display_data"
    },
    {
     "data": {
      "text/html": [
       "<html><script type=\"math/tex; mode=display\">\\newcommand{\\Bold}[1]{\\mathbf{#1}}\\verb|y2|\\phantom{\\verb!x!}\\verb|=| -0.3382 + 0.4182i</script></html>"
      ],
      "text/latex": [
       "\\begin{math}\n",
       "\\newcommand{\\Bold}[1]{\\mathbf{#1}}\\verb|y2|\\phantom{\\verb!x!}\\verb|=| -0.3382 + 0.4182i\n",
       "\\end{math}"
      ],
      "text/plain": [
       "'y2 = ' -0.3382 + 0.4182*I"
      ]
     },
     "metadata": {},
     "output_type": "display_data"
    },
    {
     "data": {
      "text/html": [
       "<html><script type=\"math/tex; mode=display\">\\newcommand{\\Bold}[1]{\\mathbf{#1}}\\verb|y3|\\phantom{\\verb!x!}\\verb|=| -1.662 - 1.195i</script></html>"
      ],
      "text/latex": [
       "\\begin{math}\n",
       "\\newcommand{\\Bold}[1]{\\mathbf{#1}}\\verb|y3|\\phantom{\\verb!x!}\\verb|=| -1.662 - 1.195i\n",
       "\\end{math}"
      ],
      "text/plain": [
       "'y3 = ' -1.662 - 1.195*I"
      ]
     },
     "metadata": {},
     "output_type": "display_data"
    },
    {
     "data": {
      "text/html": [
       "<html><script type=\"math/tex; mode=display\">\\newcommand{\\Bold}[1]{\\mathbf{#1}}\\verb|y4|\\phantom{\\verb!x!}\\verb|=| -0.3382 - 0.4182i</script></html>"
      ],
      "text/latex": [
       "\\begin{math}\n",
       "\\newcommand{\\Bold}[1]{\\mathbf{#1}}\\verb|y4|\\phantom{\\verb!x!}\\verb|=| -0.3382 - 0.4182i\n",
       "\\end{math}"
      ],
      "text/plain": [
       "'y4 = ' -0.3382 - 0.4182*I"
      ]
     },
     "metadata": {},
     "output_type": "display_data"
    }
   ],
   "source": [
    "var(\"y s\")\n",
    "s = sn\n",
    "f_y_1 = y**2 - y*sqrt(2*s - p) + q/(2*sqrt(2*s - p)) + s\n",
    "f_y_2 = y**2 + y*sqrt(2*s - p) - q/(2*sqrt(2*s - p)) + s\n",
    "sols = solve(f_y_1, y)\n",
    "sols.extend(solve(f_y_2, y))\n",
    "for i, sol in enumerate(sols):\n",
    "    show(f\"y{i+1} = \", (sol - 1).rhs().n(digits=4))"
   ]
  },
  {
   "cell_type": "code",
   "execution_count": 8,
   "metadata": {},
   "outputs": [
    {
     "data": {
      "text/html": [
       "<html><script type=\"math/tex; mode=display\">\\newcommand{\\Bold}[1]{\\mathbf{#1}}\\verb|x0|\\phantom{\\verb!x!}\\verb|=| -0.5993 - 1.195i</script></html>"
      ],
      "text/latex": [
       "\\begin{math}\n",
       "\\newcommand{\\Bold}[1]{\\mathbf{#1}}\\verb|x0|\\phantom{\\verb!x!}\\verb|=| -0.5993 - 1.195i\n",
       "\\end{math}"
      ],
      "text/plain": [
       "'x0 = ' -0.5993 - 1.195*I"
      ]
     },
     "metadata": {},
     "output_type": "display_data"
    },
    {
     "data": {
      "text/html": [
       "<html><script type=\"math/tex; mode=display\">\\newcommand{\\Bold}[1]{\\mathbf{#1}}\\verb|Тригонометрическое|\\phantom{\\verb!x!}\\verb|представление|\\phantom{\\verb!x!}\\verb|x0|\\phantom{\\verb!x!}\\verb|=| 1.337 \\, \\cos\\left(-2.036\\right) + 1.337i \\, \\sin\\left(-2.036\\right)</script></html>"
      ],
      "text/latex": [
       "\\begin{math}\n",
       "\\newcommand{\\Bold}[1]{\\mathbf{#1}}\\verb|Тригонометрическое|\\phantom{\\verb!x!}\\verb|представление|\\phantom{\\verb!x!}\\verb|x0|\\phantom{\\verb!x!}\\verb|=| 1.337 \\, \\cos\\left(-2.036\\right) + 1.337i \\, \\sin\\left(-2.036\\right)\n",
       "\\end{math}"
      ],
      "text/plain": [
       "'Тригонометрическое представление x0 = ' 1.337*cos(-2.036) + 1.337*I*sin(-2.036)"
      ]
     },
     "metadata": {},
     "output_type": "display_data"
    },
    {
     "data": {
      "text/html": [
       "Экспоненциальное представление x0 = <script type=\"math/tex\">1.337\\cdot e^{-2.036\\cdot i}</script>"
      ],
      "text/plain": [
       "Экспоненциальное представление x0 = <script type=\"math/tex\">1.337\\cdot e^{-2.036\\cdot i}</script>"
      ]
     },
     "metadata": {},
     "output_type": "display_data"
    },
    {
     "data": {
      "text/html": [
       "<html><script type=\"math/tex; mode=display\">\\newcommand{\\Bold}[1]{\\mathbf{#1}}\\verb|x1|\\phantom{\\verb!x!}\\verb|=| -0.5993 + 1.195i</script></html>"
      ],
      "text/latex": [
       "\\begin{math}\n",
       "\\newcommand{\\Bold}[1]{\\mathbf{#1}}\\verb|x1|\\phantom{\\verb!x!}\\verb|=| -0.5993 + 1.195i\n",
       "\\end{math}"
      ],
      "text/plain": [
       "'x1 = ' -0.5993 + 1.195*I"
      ]
     },
     "metadata": {},
     "output_type": "display_data"
    },
    {
     "data": {
      "text/html": [
       "<html><script type=\"math/tex; mode=display\">\\newcommand{\\Bold}[1]{\\mathbf{#1}}\\verb|Тригонометрическое|\\phantom{\\verb!x!}\\verb|представление|\\phantom{\\verb!x!}\\verb|x1|\\phantom{\\verb!x!}\\verb|=| 1.337 \\, \\cos\\left(2.036\\right) + 1.337i \\, \\sin\\left(2.036\\right)</script></html>"
      ],
      "text/latex": [
       "\\begin{math}\n",
       "\\newcommand{\\Bold}[1]{\\mathbf{#1}}\\verb|Тригонометрическое|\\phantom{\\verb!x!}\\verb|представление|\\phantom{\\verb!x!}\\verb|x1|\\phantom{\\verb!x!}\\verb|=| 1.337 \\, \\cos\\left(2.036\\right) + 1.337i \\, \\sin\\left(2.036\\right)\n",
       "\\end{math}"
      ],
      "text/plain": [
       "'Тригонометрическое представление x1 = ' 1.337*cos(2.036) + 1.337*I*sin(2.036)"
      ]
     },
     "metadata": {},
     "output_type": "display_data"
    },
    {
     "data": {
      "text/html": [
       "Экспоненциальное представление x1 = <script type=\"math/tex\">1.337\\cdot e^{2.036\\cdot i}</script>"
      ],
      "text/plain": [
       "Экспоненциальное представление x1 = <script type=\"math/tex\">1.337\\cdot e^{2.036\\cdot i}</script>"
      ]
     },
     "metadata": {},
     "output_type": "display_data"
    },
    {
     "data": {
      "text/html": [
       "<html><script type=\"math/tex; mode=display\">\\newcommand{\\Bold}[1]{\\mathbf{#1}}\\verb|x2|\\phantom{\\verb!x!}\\verb|=| 0.7243 - 0.4182i</script></html>"
      ],
      "text/latex": [
       "\\begin{math}\n",
       "\\newcommand{\\Bold}[1]{\\mathbf{#1}}\\verb|x2|\\phantom{\\verb!x!}\\verb|=| 0.7243 - 0.4182i\n",
       "\\end{math}"
      ],
      "text/plain": [
       "'x2 = ' 0.7243 - 0.4182*I"
      ]
     },
     "metadata": {},
     "output_type": "display_data"
    },
    {
     "data": {
      "text/html": [
       "<html><script type=\"math/tex; mode=display\">\\newcommand{\\Bold}[1]{\\mathbf{#1}}\\verb|Тригонометрическое|\\phantom{\\verb!x!}\\verb|представление|\\phantom{\\verb!x!}\\verb|x2|\\phantom{\\verb!x!}\\verb|=| 0.8364 \\, \\cos\\left(-0.5237\\right) + 0.8364i \\, \\sin\\left(-0.5237\\right)</script></html>"
      ],
      "text/latex": [
       "\\begin{math}\n",
       "\\newcommand{\\Bold}[1]{\\mathbf{#1}}\\verb|Тригонометрическое|\\phantom{\\verb!x!}\\verb|представление|\\phantom{\\verb!x!}\\verb|x2|\\phantom{\\verb!x!}\\verb|=| 0.8364 \\, \\cos\\left(-0.5237\\right) + 0.8364i \\, \\sin\\left(-0.5237\\right)\n",
       "\\end{math}"
      ],
      "text/plain": [
       "'Тригонометрическое представление x2 = ' 0.8364*cos(-0.5237) + 0.8364*I*sin(-0.5237)"
      ]
     },
     "metadata": {},
     "output_type": "display_data"
    },
    {
     "data": {
      "text/html": [
       "Экспоненциальное представление x2 = <script type=\"math/tex\">0.8364\\cdot e^{-0.5237\\cdot i}</script>"
      ],
      "text/plain": [
       "Экспоненциальное представление x2 = <script type=\"math/tex\">0.8364\\cdot e^{-0.5237\\cdot i}</script>"
      ]
     },
     "metadata": {},
     "output_type": "display_data"
    },
    {
     "data": {
      "text/html": [
       "<html><script type=\"math/tex; mode=display\">\\newcommand{\\Bold}[1]{\\mathbf{#1}}\\verb|x3|\\phantom{\\verb!x!}\\verb|=| 0.7243 + 0.4182i</script></html>"
      ],
      "text/latex": [
       "\\begin{math}\n",
       "\\newcommand{\\Bold}[1]{\\mathbf{#1}}\\verb|x3|\\phantom{\\verb!x!}\\verb|=| 0.7243 + 0.4182i\n",
       "\\end{math}"
      ],
      "text/plain": [
       "'x3 = ' 0.7243 + 0.4182*I"
      ]
     },
     "metadata": {},
     "output_type": "display_data"
    },
    {
     "data": {
      "text/html": [
       "<html><script type=\"math/tex; mode=display\">\\newcommand{\\Bold}[1]{\\mathbf{#1}}\\verb|Тригонометрическое|\\phantom{\\verb!x!}\\verb|представление|\\phantom{\\verb!x!}\\verb|x3|\\phantom{\\verb!x!}\\verb|=| 0.8364 \\, \\cos\\left(0.5236\\right) + 0.8364i \\, \\sin\\left(0.5236\\right)</script></html>"
      ],
      "text/latex": [
       "\\begin{math}\n",
       "\\newcommand{\\Bold}[1]{\\mathbf{#1}}\\verb|Тригонометрическое|\\phantom{\\verb!x!}\\verb|представление|\\phantom{\\verb!x!}\\verb|x3|\\phantom{\\verb!x!}\\verb|=| 0.8364 \\, \\cos\\left(0.5236\\right) + 0.8364i \\, \\sin\\left(0.5236\\right)\n",
       "\\end{math}"
      ],
      "text/plain": [
       "'Тригонометрическое представление x3 = ' 0.8364*cos(0.5236) + 0.8364*I*sin(0.5236)"
      ]
     },
     "metadata": {},
     "output_type": "display_data"
    },
    {
     "data": {
      "text/html": [
       "Экспоненциальное представление x3 = <script type=\"math/tex\">0.8364\\cdot e^{0.5236\\cdot i}</script>"
      ],
      "text/plain": [
       "Экспоненциальное представление x3 = <script type=\"math/tex\">0.8364\\cdot e^{0.5236\\cdot i}</script>"
      ]
     },
     "metadata": {},
     "output_type": "display_data"
    }
   ],
   "source": [
    "sols = solve(f, x)\n",
    "for i, sol in enumerate(sols):\n",
    "    show(f\"x{i} = \", sol.rhs().n(digits=4))\n",
    "    if not type(sol.rhs().n(digits=4)) == sage.rings.complex_number.ComplexNumber:\n",
    "        plot1 += point((sol.rhs().n(digits=4), f_x(sol.rhs()).n(digits=4)), color=\"red\", markeredgecolor=\"black\", size=30, zorder=10)\n",
    "    else:\n",
    "        phi = atan2(sol.rhs().n(digits=4).imag(), sol.rhs().n(digits=4).real()).n(digits=4)\n",
    "        z_abs = sol.rhs().n(digits=4).abs().n(digits=4)\n",
    "        z_trig = z_abs*(cos(phi, hold=True) + I*sin(phi, hold=True))\n",
    "        show(f\"Тригонометрическое представление x{i} = \", z_trig)\n",
    "        z_exp = f\"{z_abs}\" + r\"\\cdot e^{\" + f\"{phi}\" + r\"\\cdot i}\"\n",
    "        show(html(f\"Экспоненциальное представление x{i} = ${z_exp}$\"))"
   ]
  },
  {
   "cell_type": "code",
   "execution_count": 9,
   "metadata": {},
   "outputs": [
    {
     "data": {
      "image/png": "[encoded data removed]",
      "text/plain": [
       "Graphics object consisting of 1 graphics primitive"
      ]
     },
     "metadata": {},
     "output_type": "display_data"
    }
   ],
   "source": [
    "show(plot1) #действительных корней нету"
   ]
  }
 ],
 "metadata": {
  "kernelspec": {
   "display_name": "SageMath 9.2",
   "language": "sage",
   "name": "sagemath"
  },
  "language_info": {
   "codemirror_mode": {
    "name": "ipython",
    "version": 3
   },
   "file_extension": ".py",
   "mimetype": "text/x-python",
   "name": "python",
   "nbconvert_exporter": "python",
   "pygments_lexer": "ipython3",
   "version": "3.7.7"
  }
 },
 "nbformat": 4,
 "nbformat_minor": 4
}
