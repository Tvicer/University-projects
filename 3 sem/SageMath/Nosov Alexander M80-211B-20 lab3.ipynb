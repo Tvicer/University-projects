{
 "cells": [
  {
   "cell_type": "markdown",
   "metadata": {},
   "source": [
    "Матрицы - матричные уравнения"
   ]
  },
  {
   "cell_type": "code",
   "execution_count": 1,
   "metadata": {},
   "outputs": [
    {
     "data": {
      "text/html": [
       "<html><script type=\"math/tex; mode=display\">\\newcommand{\\Bold}[1]{\\mathbf{#1}}\\left(\\begin{array}{rrr}\n",
       "\\frac{17}{128} & -\\frac{3}{32} & \\frac{151}{128} \\\\\n",
       "-\\frac{17}{32} & -\\frac{3}{4} & -\\frac{7}{32} \\\\\n",
       "-\\frac{157}{128} & -\\frac{13}{32} & \\frac{149}{128}\n",
       "\\end{array}\\right)</script></html>"
      ],
      "text/latex": [
       "\\begin{math}\n",
       "\\newcommand{\\Bold}[1]{\\mathbf{#1}}\\left(\\begin{array}{rrr}\n",
       "\\frac{17}{128} & -\\frac{3}{32} & \\frac{151}{128} \\\\\n",
       "-\\frac{17}{32} & -\\frac{3}{4} & -\\frac{7}{32} \\\\\n",
       "-\\frac{157}{128} & -\\frac{13}{32} & \\frac{149}{128}\n",
       "\\end{array}\\right)\n",
       "\\end{math}"
      ],
      "text/plain": [
       "[  17/128    -3/32  151/128]\n",
       "[  -17/32     -3/4    -7/32]\n",
       "[-157/128   -13/32  149/128]"
      ]
     },
     "metadata": {},
     "output_type": "display_data"
    }
   ],
   "source": [
    "A = matrix(QQ,[[1, -5/4, -2], [-2, 1, -4], [1, 3/4, -2]])*4\n",
    "B = matrix(QQ, [[2, 1, -5], [2, 0, 7], [1, 4, 2]])*(-2)\n",
    "C = matrix(QQ, [[2, 1/2, 1], [-1, -1, 4], [1, 0, 3]])\n",
    "X = C-B\n",
    "X = X*A^(-1)\n",
    "show(X)"
   ]
  },
  {
   "cell_type": "markdown",
   "metadata": {},
   "source": [
    "Проверка"
   ]
  },
  {
   "cell_type": "code",
   "execution_count": 2,
   "metadata": {},
   "outputs": [
    {
     "name": "stdout",
     "output_type": "stream",
     "text": [
      "Ответ верный\n"
     ]
    }
   ],
   "source": [
    "res = X*A + B - C\n",
    "if (res == 0):\n",
    "    print(\"Ответ верный\")\n",
    "else:\n",
    "    print(\"Ответ неверный\")"
   ]
  }
 ],
 "metadata": {
  "kernelspec": {
   "display_name": "SageMath 9.2",
   "language": "sage",
   "name": "sagemath"
  },
  "language_info": {
   "codemirror_mode": {
    "name": "ipython",
    "version": 3
   },
   "file_extension": ".py",
   "mimetype": "text/x-python",
   "name": "python",
   "nbconvert_exporter": "python",
   "pygments_lexer": "ipython3",
   "version": "3.7.7"
  }
 },
 "nbformat": 4,
 "nbformat_minor": 4
}
