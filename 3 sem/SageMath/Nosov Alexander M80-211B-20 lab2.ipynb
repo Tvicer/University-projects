{
 "cells": [
  {
   "cell_type": "markdown",
   "metadata": {},
   "source": [
    "Задача 2 Носов Александр Вариант 9"
   ]
  },
  {
   "cell_type": "markdown",
   "metadata": {},
   "source": [
    "Построение матрицы коефициентов СЛАУ"
   ]
  },
  {
   "cell_type": "code",
   "execution_count": 1,
   "metadata": {},
   "outputs": [],
   "source": [
    "cf_matrix = matrix(RR,[[1, -3, 2], [1, -4, 3], [3, 2, -4]])\n",
    "fcf_vector = vector(RR, [0, 1, -6])"
   ]
  },
  {
   "cell_type": "code",
   "execution_count": 2,
   "metadata": {},
   "outputs": [
    {
     "data": {
      "text/html": [
       "<html><script type=\"math/tex; mode=display\">\\newcommand{\\Bold}[1]{\\mathbf{#1}}\\left(\\begin{array}{rrr}\n",
       "1.00 & -3.00 & 2.00 \\\\\n",
       "1.00 & -4.00 & 3.00 \\\\\n",
       "3.00 & 2.00 & -4.00\n",
       "\\end{array}\\right)</script></html>"
      ],
      "text/latex": [
       "\\begin{math}\n",
       "\\newcommand{\\Bold}[1]{\\mathbf{#1}}\\left(\\begin{array}{rrr}\n",
       "1.00 & -3.00 & 2.00 \\\\\n",
       "1.00 & -4.00 & 3.00 \\\\\n",
       "3.00 & 2.00 & -4.00\n",
       "\\end{array}\\right)\n",
       "\\end{math}"
      ],
      "text/plain": [
       "[ 1.00 -3.00  2.00]\n",
       "[ 1.00 -4.00  3.00]\n",
       "[ 3.00  2.00 -4.00]"
      ]
     },
     "metadata": {},
     "output_type": "display_data"
    }
   ],
   "source": [
    "show(cf_matrix.n(digits=3))"
   ]
  },
  {
   "cell_type": "code",
   "execution_count": 3,
   "metadata": {},
   "outputs": [
    {
     "data": {
      "text/html": [
       "<html><script type=\"math/tex; mode=display\">\\newcommand{\\Bold}[1]{\\mathbf{#1}}\\left(\\begin{array}{rrr|r}\n",
       "1.00 & -3.00 & 2.00 & 0.000 \\\\\n",
       "1.00 & -4.00 & 3.00 & 1.00 \\\\\n",
       "3.00 & 2.00 & -4.00 & -6.00\n",
       "\\end{array}\\right)</script></html>"
      ],
      "text/latex": [
       "\\begin{math}\n",
       "\\newcommand{\\Bold}[1]{\\mathbf{#1}}\\left(\\begin{array}{rrr|r}\n",
       "1.00 & -3.00 & 2.00 & 0.000 \\\\\n",
       "1.00 & -4.00 & 3.00 & 1.00 \\\\\n",
       "3.00 & 2.00 & -4.00 & -6.00\n",
       "\\end{array}\\right)\n",
       "\\end{math}"
      ],
      "text/plain": [
       "[ 1.00 -3.00  2.00|0.000]\n",
       "[ 1.00 -4.00  3.00| 1.00]\n",
       "[ 3.00  2.00 -4.00|-6.00]"
      ]
     },
     "metadata": {},
     "output_type": "display_data"
    }
   ],
   "source": [
    "full_matrix = cf_matrix.augment(fcf_vector, subdivide=True)\n",
    "show(full_matrix.n(digits=3))"
   ]
  },
  {
   "cell_type": "markdown",
   "metadata": {},
   "source": [
    "Проверка совместности СЛАУ по теореме Кронеккера-Капелли о ранге матрицы совместной системы"
   ]
  },
  {
   "cell_type": "code",
   "execution_count": 4,
   "metadata": {},
   "outputs": [
    {
     "name": "stdout",
     "output_type": "stream",
     "text": [
      "СЛАУ совместна, следовательно имеет хотя бы 1 решение\n"
     ]
    }
   ],
   "source": [
    "if(cf_matrix.rank() == full_matrix.rank()):\n",
    "    print(\"СЛАУ совместна, следовательно имеет хотя бы 1 решение\")\n",
    "else:\n",
    "    print(\"СЛАУ несовместна, следовательно не имеет решения\")"
   ]
  },
  {
   "cell_type": "markdown",
   "metadata": {},
   "source": [
    "Решение СЛАУ методом Крамера:"
   ]
  },
  {
   "cell_type": "code",
   "execution_count": 5,
   "metadata": {},
   "outputs": [
    {
     "name": "stdout",
     "output_type": "stream",
     "text": [
      "Ответ по методу Крамера:\n",
      "X = 2.0\n",
      "X = 4.0\n",
      "X = 5.0\n"
     ]
    }
   ],
   "source": [
    "det = cf_matrix.det()\n",
    "answer1 = []\n",
    "tmp_matrix=matrix(RR, cf_matrix)\n",
    "tmp_fcf_matrix = matrix(RR, fcf_vector)\n",
    "\n",
    "if(det == 0):\n",
    "    print(\"Определитель матрицы равен 0, следовательно, система имеет бесконечное числое решений.\")\n",
    "else:\n",
    "    for i in range(cf_matrix.ncols()):\n",
    "        tmp_matrix=matrix(RR, cf_matrix)\n",
    "        for j in range(full_matrix.nrows()):\n",
    "            tmp_matrix[j, i] = tmp_fcf_matrix[0][j]\n",
    "\n",
    "        answer1.append(tmp_matrix.det()/det)\n",
    "\n",
    "print(\"Ответ по методу Крамера:\")\n",
    "\n",
    "for x in answer1:\n",
    "    print(\"X =\", x.n(digits=2))"
   ]
  },
  {
   "cell_type": "code",
   "execution_count": 6,
   "metadata": {},
   "outputs": [
    {
     "data": {
      "text/html": [
       "<html><script type=\"math/tex; mode=display\">\\newcommand{\\Bold}[1]{\\mathbf{#1}}\\left(\\begin{array}{rrr|r}\n",
       "1.00 & 0.000 & 0.000 & 2.00 \\\\\n",
       "0.000 & 1.00 & 0.000 & 4.00 \\\\\n",
       "0.000 & 0.000 & 1.00 & 5.00\n",
       "\\end{array}\\right)</script></html>"
      ],
      "text/latex": [
       "\\begin{math}\n",
       "\\newcommand{\\Bold}[1]{\\mathbf{#1}}\\left(\\begin{array}{rrr|r}\n",
       "1.00 & 0.000 & 0.000 & 2.00 \\\\\n",
       "0.000 & 1.00 & 0.000 & 4.00 \\\\\n",
       "0.000 & 0.000 & 1.00 & 5.00\n",
       "\\end{array}\\right)\n",
       "\\end{math}"
      ],
      "text/plain": [
       "[ 1.00 0.000 0.000| 2.00]\n",
       "[0.000  1.00 0.000| 4.00]\n",
       "[0.000 0.000  1.00| 5.00]"
      ]
     },
     "metadata": {},
     "output_type": "display_data"
    },
    {
     "data": {
      "text/html": [
       "<html><script type=\"math/tex; mode=display\">\\newcommand{\\Bold}[1]{\\mathbf{#1}}\\verb|Ответ|\\phantom{\\verb!x!}\\verb|по|\\phantom{\\verb!x!}\\verb|методу|\\phantom{\\verb!x!}\\verb|Гаусса:|</script></html>"
      ],
      "text/latex": [
       "\\begin{math}\n",
       "\\newcommand{\\Bold}[1]{\\mathbf{#1}}\\verb|Ответ|\\phantom{\\verb!x!}\\verb|по|\\phantom{\\verb!x!}\\verb|методу|\\phantom{\\verb!x!}\\verb|Гаусса:|\n",
       "\\end{math}"
      ],
      "text/plain": [
       "'Ответ по методу Гаусса:'"
      ]
     },
     "metadata": {},
     "output_type": "display_data"
    },
    {
     "name": "stdout",
     "output_type": "stream",
     "text": [
      "X = 2.0\n",
      "X = 4.0\n",
      "X = 5.0\n"
     ]
    }
   ],
   "source": [
    "diag_matrix = full_matrix.echelon_form() # приводим матрицу к диагональному виду\n",
    "show(diag_matrix.n(digits=3))\n",
    "answer2 = []\n",
    "\n",
    "show(\"Ответ по методу Гаусса:\")\n",
    "for i in range(diag_matrix.nrows()):\n",
    "    answer2.append(diag_matrix[i][diag_matrix.ncols()-1])\n",
    "    \n",
    "for x in answer2:\n",
    "    print(\"X =\", x.n(digits=2))"
   ]
  },
  {
   "cell_type": "code",
   "execution_count": 7,
   "metadata": {},
   "outputs": [
    {
     "name": "stdout",
     "output_type": "stream",
     "text": [
      "Ответы совпали, значит решение верное\n"
     ]
    }
   ],
   "source": [
    "if(answer1 == answer2):\n",
    "    print(\"Ответы совпали, значит решение верное\")\n",
    "else:\n",
    "    print(\"Ответы не совпали :(\")"
   ]
  }
 ],
 "metadata": {
  "kernelspec": {
   "display_name": "SageMath 9.2",
   "language": "sage",
   "name": "sagemath"
  },
  "language_info": {
   "codemirror_mode": {
    "name": "ipython",
    "version": 3
   },
   "file_extension": ".py",
   "mimetype": "text/x-python",
   "name": "python",
   "nbconvert_exporter": "python",
   "pygments_lexer": "ipython3",
   "version": "3.7.7"
  }
 },
 "nbformat": 4,
 "nbformat_minor": 4
}
