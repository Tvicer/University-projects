{
 "cells": [
  {
   "cell_type": "markdown",
   "metadata": {},
   "source": [
    "Задача 4 Носов Александр Вариант 13"
   ]
  },
  {
   "cell_type": "markdown",
   "metadata": {},
   "source": [
    "Алгебраические уравнения 3й степени методом Кардано"
   ]
  },
  {
   "cell_type": "code",
   "execution_count": 1,
   "metadata": {},
   "outputs": [],
   "source": [
    "f(x) = (8*x**3 - 2*x**2 + 6*x - 4)/8"
   ]
  },
  {
   "cell_type": "code",
   "execution_count": 2,
   "metadata": {},
   "outputs": [
    {
     "data": {
      "text/html": [
       "<html><script type=\"math/tex; mode=display\">\\newcommand{\\Bold}[1]{\\mathbf{#1}}x^{3} - \\frac{1}{4} \\, x^{2} + \\frac{3}{4} \\, x - \\frac{1}{2}</script></html>"
      ],
      "text/latex": [
       "\\begin{math}\n",
       "\\newcommand{\\Bold}[1]{\\mathbf{#1}}x^{3} - \\frac{1}{4} \\, x^{2} + \\frac{3}{4} \\, x - \\frac{1}{2}\n",
       "\\end{math}"
      ],
      "text/plain": [
       "x^3 - 1/4*x^2 + 3/4*x - 1/2"
      ]
     },
     "metadata": {},
     "output_type": "display_data"
    }
   ],
   "source": [
    "show(f(x))"
   ]
  },
  {
   "cell_type": "code",
   "execution_count": 3,
   "metadata": {},
   "outputs": [
    {
     "data": {
      "image/png": "[encoded data removed]",
      "text/plain": [
       "Graphics object consisting of 1 graphics primitive"
      ]
     },
     "metadata": {},
     "output_type": "display_data"
    }
   ],
   "source": [
    "plot1 = plot(f, (-1, 1))\n",
    "show(plot1)"
   ]
  },
  {
   "cell_type": "markdown",
   "metadata": {},
   "source": [
    "Делаем замену: $x = z - \\frac{a}{3}$.<br>\n",
    "$a = \\frac{1}{4}$.<br>\n",
    "$x = z + \\frac{1}{12}$.<br>"
   ]
  },
  {
   "cell_type": "code",
   "execution_count": 4,
   "metadata": {},
   "outputs": [
    {
     "data": {
      "text/html": [
       "<html><script type=\"math/tex; mode=display\">\\newcommand{\\Bold}[1]{\\mathbf{#1}}z^{3} + \\frac{35}{48} \\, z - \\frac{379}{864}</script></html>"
      ],
      "text/latex": [
       "\\begin{math}\n",
       "\\newcommand{\\Bold}[1]{\\mathbf{#1}}z^{3} + \\frac{35}{48} \\, z - \\frac{379}{864}\n",
       "\\end{math}"
      ],
      "text/plain": [
       "z^3 + 35/48*z - 379/864"
      ]
     },
     "metadata": {},
     "output_type": "display_data"
    }
   ],
   "source": [
    "var(\"z\")\n",
    "fz = f(x = z + 1/12)\n",
    "show(fz.expand())"
   ]
  },
  {
   "cell_type": "markdown",
   "metadata": {},
   "source": [
    "$z^3 + p*z + q = 0$"
   ]
  },
  {
   "cell_type": "markdown",
   "metadata": {},
   "source": [
    "Следовательно:<br>\n",
    "$p = \\frac{35}{48}$<br>\n",
    "$q = -\\frac{379}{864}$"
   ]
  },
  {
   "cell_type": "code",
   "execution_count": 5,
   "metadata": {},
   "outputs": [],
   "source": [
    "p = 35/48\n",
    "q = -379/864"
   ]
  },
  {
   "cell_type": "markdown",
   "metadata": {},
   "source": [
    "Вычисляем значения u и v по формулам:\n",
    "$$u = \\left(-\\frac{q}{2} + \\left(\\frac{q^2}{4} + \\frac{p^3}{27}\\right)^{1/2}\\right)^{1/3}$$\n",
    "$$v = \\left(-\\frac{q}{2} - \\left(\\frac{q^2}{4} + \\frac{p^3}{27}\\right)^{1/2}\\right)^{1/3}$$"
   ]
  },
  {
   "cell_type": "code",
   "execution_count": 6,
   "metadata": {},
   "outputs": [
    {
     "data": {
      "text/html": [
       "<html><script type=\"math/tex; mode=display\">\\newcommand{\\Bold}[1]{\\mathbf{#1}}\\verb|u|\\phantom{\\verb!x!}\\verb|=| 0.7771</script></html>"
      ],
      "text/latex": [
       "\\begin{math}\n",
       "\\newcommand{\\Bold}[1]{\\mathbf{#1}}\\verb|u|\\phantom{\\verb!x!}\\verb|=| 0.7771\n",
       "\\end{math}"
      ],
      "text/plain": [
       "'u =' 0.7771"
      ]
     },
     "metadata": {},
     "output_type": "display_data"
    },
    {
     "data": {
      "text/html": [
       "<html><script type=\"math/tex; mode=display\">\\newcommand{\\Bold}[1]{\\mathbf{#1}}\\verb|v|\\phantom{\\verb!x!}\\verb|=| -0.3128</script></html>"
      ],
      "text/latex": [
       "\\begin{math}\n",
       "\\newcommand{\\Bold}[1]{\\mathbf{#1}}\\verb|v|\\phantom{\\verb!x!}\\verb|=| -0.3128\n",
       "\\end{math}"
      ],
      "text/plain": [
       "'v =' -0.3128"
      ]
     },
     "metadata": {},
     "output_type": "display_data"
    }
   ],
   "source": [
    "u = (-q/2 + ((q**2)/4 + (p**3)/27)**(1/2))**(1/3)\n",
    "v = -(abs(-q/2 - ((q**2)/4 + (p**3)/27)**(1/2)))**(1/3)\n",
    "show(\"u =\", u.n(digits=4))\n",
    "show(\"v =\", v.n(digits=4))"
   ]
  },
  {
   "cell_type": "code",
   "execution_count": 7,
   "metadata": {},
   "outputs": [
    {
     "data": {
      "text/html": [
       "<html><script type=\"math/tex; mode=display\">\\newcommand{\\Bold}[1]{\\mathbf{#1}}\\verb|E|\\phantom{\\verb!x!}\\verb|=| \\frac{1}{2} \\, \\sqrt{-3} - \\frac{1}{2}</script></html>"
      ],
      "text/latex": [
       "\\begin{math}\n",
       "\\newcommand{\\Bold}[1]{\\mathbf{#1}}\\verb|E|\\phantom{\\verb!x!}\\verb|=| \\frac{1}{2} \\, \\sqrt{-3} - \\frac{1}{2}\n",
       "\\end{math}"
      ],
      "text/plain": [
       "'E =' 1/2*sqrt(-3) - 1/2"
      ]
     },
     "metadata": {},
     "output_type": "display_data"
    }
   ],
   "source": [
    "E = -1/2 + (sqrt(-3))/2\n",
    "show(\"E =\", E)"
   ]
  },
  {
   "cell_type": "code",
   "execution_count": 8,
   "metadata": {},
   "outputs": [
    {
     "data": {
      "text/html": [
       "<html><script type=\"math/tex; mode=display\">\\newcommand{\\Bold}[1]{\\mathbf{#1}}\\verb|z1|\\phantom{\\verb!x!}\\verb|=| 0.4643</script></html>"
      ],
      "text/latex": [
       "\\begin{math}\n",
       "\\newcommand{\\Bold}[1]{\\mathbf{#1}}\\verb|z1|\\phantom{\\verb!x!}\\verb|=| 0.4643\n",
       "\\end{math}"
      ],
      "text/plain": [
       "'z1 =' 0.4643"
      ]
     },
     "metadata": {},
     "output_type": "display_data"
    },
    {
     "data": {
      "text/html": [
       "<html><script type=\"math/tex; mode=display\">\\newcommand{\\Bold}[1]{\\mathbf{#1}}\\verb|z2|\\phantom{\\verb!x!}\\verb|=| -0.2322 + 0.9438i</script></html>"
      ],
      "text/latex": [
       "\\begin{math}\n",
       "\\newcommand{\\Bold}[1]{\\mathbf{#1}}\\verb|z2|\\phantom{\\verb!x!}\\verb|=| -0.2322 + 0.9438i\n",
       "\\end{math}"
      ],
      "text/plain": [
       "'z2 =' -0.2322 + 0.9438*I"
      ]
     },
     "metadata": {},
     "output_type": "display_data"
    },
    {
     "data": {
      "text/html": [
       "<html><script type=\"math/tex; mode=display\">\\newcommand{\\Bold}[1]{\\mathbf{#1}}\\verb|z3=| -0.2321 - 0.9438i</script></html>"
      ],
      "text/latex": [
       "\\begin{math}\n",
       "\\newcommand{\\Bold}[1]{\\mathbf{#1}}\\verb|z3=| -0.2321 - 0.9438i\n",
       "\\end{math}"
      ],
      "text/plain": [
       "'z3=' -0.2321 - 0.9438*I"
      ]
     },
     "metadata": {},
     "output_type": "display_data"
    }
   ],
   "source": [
    "z1 = u + v\n",
    "z2 = u * E + v * E**2\n",
    "z3 = u * E**2 + v * E\n",
    "show(\"z1 =\", z1.n(digits=4))\n",
    "show(\"z2 =\", z2.n(digits=4))\n",
    "show(\"z3=\", z3.n(digits=4))"
   ]
  },
  {
   "cell_type": "code",
   "execution_count": 9,
   "metadata": {},
   "outputs": [
    {
     "data": {
      "text/html": [
       "<html><script type=\"math/tex; mode=display\">\\newcommand{\\Bold}[1]{\\mathbf{#1}}\\verb|D=| -\\frac{1727}{256}</script></html>"
      ],
      "text/latex": [
       "\\begin{math}\n",
       "\\newcommand{\\Bold}[1]{\\mathbf{#1}}\\verb|D=| -\\frac{1727}{256}\n",
       "\\end{math}"
      ],
      "text/plain": [
       "'D=' -1727/256"
      ]
     },
     "metadata": {},
     "output_type": "display_data"
    }
   ],
   "source": [
    "D = -4*p^3 - 27*q^2\n",
    "show(\"D=\", D)"
   ]
  },
  {
   "cell_type": "markdown",
   "metadata": {},
   "source": [
    "D < 0, следовательно 1 действительный корень и 2 копмлексных"
   ]
  },
  {
   "cell_type": "code",
   "execution_count": 10,
   "metadata": {},
   "outputs": [
    {
     "data": {
      "text/html": [
       "<html><script type=\"math/tex; mode=display\">\\newcommand{\\Bold}[1]{\\mathbf{#1}}\\verb|x1=| 0.5476</script></html>"
      ],
      "text/latex": [
       "\\begin{math}\n",
       "\\newcommand{\\Bold}[1]{\\mathbf{#1}}\\verb|x1=| 0.5476\n",
       "\\end{math}"
      ],
      "text/plain": [
       "'x1=' 0.5476"
      ]
     },
     "metadata": {},
     "output_type": "display_data"
    },
    {
     "data": {
      "text/html": [
       "<html><script type=\"math/tex; mode=display\">\\newcommand{\\Bold}[1]{\\mathbf{#1}}\\verb|x2=| -0.1488 + 0.9438i</script></html>"
      ],
      "text/latex": [
       "\\begin{math}\n",
       "\\newcommand{\\Bold}[1]{\\mathbf{#1}}\\verb|x2=| -0.1488 + 0.9438i\n",
       "\\end{math}"
      ],
      "text/plain": [
       "'x2=' -0.1488 + 0.9438*I"
      ]
     },
     "metadata": {},
     "output_type": "display_data"
    },
    {
     "data": {
      "text/html": [
       "<html><script type=\"math/tex; mode=display\">\\newcommand{\\Bold}[1]{\\mathbf{#1}}\\verb|Тригонометрическое|\\phantom{\\verb!x!}\\verb|представление:|\\phantom{\\verb!x!}\\verb|x2=| 0.9555 \\, \\cos\\left(1.727\\right) + 0.9555i \\, \\sin\\left(1.727\\right)</script></html>"
      ],
      "text/latex": [
       "\\begin{math}\n",
       "\\newcommand{\\Bold}[1]{\\mathbf{#1}}\\verb|Тригонометрическое|\\phantom{\\verb!x!}\\verb|представление:|\\phantom{\\verb!x!}\\verb|x2=| 0.9555 \\, \\cos\\left(1.727\\right) + 0.9555i \\, \\sin\\left(1.727\\right)\n",
       "\\end{math}"
      ],
      "text/plain": [
       "'Тригонометрическое представление: x2=' 0.9555*cos(1.727) + 0.9555*I*sin(1.727)"
      ]
     },
     "metadata": {},
     "output_type": "display_data"
    },
    {
     "data": {
      "text/html": [
       "Экспоненциальное представление x2 = <script type=\"math/tex\">0.9555\\cdot e^{1.727\\cdot i}</script>"
      ],
      "text/plain": [
       "Экспоненциальное представление x2 = <script type=\"math/tex\">0.9555\\cdot e^{1.727\\cdot i}</script>"
      ]
     },
     "metadata": {},
     "output_type": "display_data"
    },
    {
     "data": {
      "text/html": [
       "<html><script type=\"math/tex; mode=display\">\\newcommand{\\Bold}[1]{\\mathbf{#1}}\\verb|x3=| -0.1488 - 0.9438i</script></html>"
      ],
      "text/latex": [
       "\\begin{math}\n",
       "\\newcommand{\\Bold}[1]{\\mathbf{#1}}\\verb|x3=| -0.1488 - 0.9438i\n",
       "\\end{math}"
      ],
      "text/plain": [
       "'x3=' -0.1488 - 0.9438*I"
      ]
     },
     "metadata": {},
     "output_type": "display_data"
    },
    {
     "data": {
      "text/html": [
       "<html><script type=\"math/tex; mode=display\">\\newcommand{\\Bold}[1]{\\mathbf{#1}}\\verb|Тригонометрическое|\\phantom{\\verb!x!}\\verb|представление:|\\phantom{\\verb!x!}\\verb|x3=| 0.9555 \\, \\cos\\left(-1.727\\right) + 0.9555i \\, \\sin\\left(-1.727\\right)</script></html>"
      ],
      "text/latex": [
       "\\begin{math}\n",
       "\\newcommand{\\Bold}[1]{\\mathbf{#1}}\\verb|Тригонометрическое|\\phantom{\\verb!x!}\\verb|представление:|\\phantom{\\verb!x!}\\verb|x3=| 0.9555 \\, \\cos\\left(-1.727\\right) + 0.9555i \\, \\sin\\left(-1.727\\right)\n",
       "\\end{math}"
      ],
      "text/plain": [
       "'Тригонометрическое представление: x3=' 0.9555*cos(-1.727) + 0.9555*I*sin(-1.727)"
      ]
     },
     "metadata": {},
     "output_type": "display_data"
    },
    {
     "data": {
      "text/html": [
       "Экспоненциальное представление x3 = <script type=\"math/tex\">0.9555\\cdot e^{-1.727\\cdot i}</script>"
      ],
      "text/plain": [
       "Экспоненциальное представление x3 = <script type=\"math/tex\">0.9555\\cdot e^{-1.727\\cdot i}</script>"
      ]
     },
     "metadata": {},
     "output_type": "display_data"
    }
   ],
   "source": [
    "x1 = z1 + 1/12\n",
    "x2 = z2 + 1/12\n",
    "x3 = z3 + 1/12\n",
    "\n",
    "show(\"x1=\", x1.n(digits=4))\n",
    "\n",
    "show(\"x2=\", x2.n(digits=4))\n",
    "phi = atan2(x2.n(digits=4).imag(), x2.n(digits=4).real()).n(digits=4)\n",
    "x2_abs = x2.n(digits=4).abs().n(digits=4)\n",
    "x2_trig = x2_abs*(cos(phi, hold=True) + I*sin(phi, hold=True))\n",
    "show(\"Тригонометрическое представление: x2=\", x2_trig)\n",
    "x2_exp = f\"{x2_abs}\" + r\"\\cdot e^{\" + f\"{phi}\" + r\"\\cdot i}\"\n",
    "show(html(f\"Экспоненциальное представление x2 = ${x2_exp}$\"))\n",
    "\n",
    "show(\"x3=\", x3.n(digits=4))\n",
    "phi = atan2(x3.n(digits=4).imag(), x3.n(digits=4).real()).n(digits=4)\n",
    "x3_abs = x3.n(digits=4).abs().n(digits=4)\n",
    "x3_trig = x3_abs*(cos(phi, hold=True) + I*sin(phi, hold=True))\n",
    "show(\"Тригонометрическое представление: x3=\", x3_trig)\n",
    "x3_exp = f\"{x3_abs}\" + r\"\\cdot e^{\" + f\"{phi}\" + r\"\\cdot i}\"\n",
    "show(html(f\"Экспоненциальное представление x3 = ${x3_exp}$\"))"
   ]
  },
  {
   "cell_type": "code",
   "execution_count": 11,
   "metadata": {},
   "outputs": [
    {
     "data": {
      "image/png": "[encoded data removed]",
      "text/plain": [
       "Graphics object consisting of 2 graphics primitives"
      ]
     },
     "metadata": {},
     "output_type": "display_data"
    }
   ],
   "source": [
    "points = point((x1.n(digits=4), f(x1).n(digits=4)), color=\"red\", markeredgecolor=\"black\", size=30, zorder=10)\n",
    "ans = plot1 + points\n",
    "show(ans)"
   ]
  }
 ],
 "metadata": {
  "kernelspec": {
   "display_name": "SageMath 9.2",
   "language": "sage",
   "name": "sagemath"
  },
  "language_info": {
   "codemirror_mode": {
    "name": "ipython",
    "version": 3
   },
   "file_extension": ".py",
   "mimetype": "text/x-python",
   "name": "python",
   "nbconvert_exporter": "python",
   "pygments_lexer": "ipython3",
   "version": "3.7.7"
  }
 },
 "nbformat": 4,
 "nbformat_minor": 4
}
