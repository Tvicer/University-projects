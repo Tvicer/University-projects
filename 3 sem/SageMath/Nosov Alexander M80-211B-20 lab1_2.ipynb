{
 "cells": [
  {
   "cell_type": "markdown",
   "metadata": {},
   "source": [
    "<h2>Носов Александр Сергеевич<br>\n",
    "Задача 1.2 исследование графиков<br>\n",
    "Вариант 3<h2>"
   ]
  },
  {
   "cell_type": "code",
   "execution_count": 1,
   "metadata": {},
   "outputs": [],
   "source": [
    "tasks = [ \n",
    "            sin(2*x**3)**2/x**3 + x\n",
    "            , (x**2 - 4)*sin((pi*(x**2))/6) / (x**2 - 1)  # при отрисовке ограничить отображение по оси Y\n",
    "            , sqrt(abs(3*x^3 + 2*x^2 - 10*x)) / (4*x)\n",
    "            , ln(sqrt(x^2 + 1) / sqrt(x^2 - 1))/sin(x)\n",
    "#             , real_nth_root((x^3 - x^2 - x + 1) / tan(x), 3)\n",
    "            , x+1\n",
    "            , 2*log((x - 1) / x) + 1\n",
    "            , ln(x - 1) / (x - 1)^2\n",
    "        ]\n",
    "\n",
    "def get_variant_for_number(_number, _variations_quo):\n",
    "    return (_number - 1) % _variations_quo"
   ]
  },
  {
   "cell_type": "code",
   "execution_count": 2,
   "metadata": {},
   "outputs": [
    {
     "name": "stdout",
     "output_type": "stream",
     "text": [
      "Номер вашего задания: 2.\n"
     ]
    },
    {
     "data": {
      "text/html": [
       "<html><script type=\"math/tex; mode=display\">\\newcommand{\\Bold}[1]{\\mathbf{#1}}\\verb|Ваша|\\phantom{\\verb!x!}\\verb|функция:| \\frac{\\sqrt{{\\left| 3 \\, x^{3} + 2 \\, x^{2} - 10 \\, x \\right|}}}{4 \\, x}</script></html>"
      ],
      "text/latex": [
       "\\begin{math}\n",
       "\\newcommand{\\Bold}[1]{\\mathbf{#1}}\\verb|Ваша|\\phantom{\\verb!x!}\\verb|функция:| \\frac{\\sqrt{{\\left| 3 \\, x^{3} + 2 \\, x^{2} - 10 \\, x \\right|}}}{4 \\, x}\n",
       "\\end{math}"
      ],
      "text/plain": [
       "'Ваша функция: ' 1/4*sqrt(abs(3*x^3 + 2*x^2 - 10*x))/x"
      ]
     },
     "metadata": {},
     "output_type": "display_data"
    }
   ],
   "source": [
    "your_number = 17\n",
    "\n",
    "number_of_your_task = get_variant_for_number(_number=your_number, _variations_quo=len(tasks))\n",
    "print(f\"Номер вашего задания: {number_of_your_task}.\")\n",
    "show(\"Ваша функция: \", tasks[number_of_your_task])\n",
    "my_func(x) = tasks[number_of_your_task]"
   ]
  },
  {
   "cell_type": "markdown",
   "metadata": {},
   "source": [
    "<h2>№1 - Построить график функции<h2>"
   ]
  },
  {
   "cell_type": "code",
   "execution_count": 3,
   "metadata": {},
   "outputs": [
    {
     "data": {
      "image/png": "[encoded data removed]",
      "text/plain": [
       "Graphics object consisting of 1 graphics primitive"
      ]
     },
     "execution_count": 3,
     "metadata": {},
     "output_type": "execute_result"
    }
   ],
   "source": [
    "plot(my_func, xmin = -8, xmax = 8, ymin = -3, ymax = 3)"
   ]
  },
  {
   "cell_type": "markdown",
   "metadata": {},
   "source": [
    "<h2>№2 - Область определения функции<h2>"
   ]
  },
  {
   "cell_type": "code",
   "execution_count": 4,
   "metadata": {},
   "outputs": [
    {
     "data": {
      "text/html": [
       "<html><script type=\"math/tex; mode=display\">\\newcommand{\\Bold}[1]{\\mathbf{#1}}0.000</script></html>"
      ],
      "text/latex": [
       "\\begin{math}\n",
       "\\newcommand{\\Bold}[1]{\\mathbf{#1}}0.000\n",
       "\\end{math}"
      ],
      "text/plain": [
       "0.000"
      ]
     },
     "metadata": {},
     "output_type": "display_data"
    },
    {
     "name": "stdout",
     "output_type": "stream",
     "text": [
      "Область определения: (-infinity, 0) V (0, +infinity)\n"
     ]
    }
   ],
   "source": [
    "sols = solve(4*x, x)\n",
    "for sol in sols:\n",
    "    show(sol.rhs().n(digits=3))\n",
    "\"\"\"\n",
    "1) Область определения функции abs(3*x^3 + 2*x^2 - 10*x) D(y) = R, а область определения функции \n",
    "sqrt(abs(3*x^3 + 2*x^2 - 10*x)) / (4*x) D(y) = R \\\\ {0}\n",
    "\"\"\"\n",
    "\n",
    "print(\"Область определения: (-infinity, 0) V (0, +infinity)\")"
   ]
  },
  {
   "cell_type": "markdown",
   "metadata": {},
   "source": [
    "<h2>№3 - Является ли функция чётной или нечётной, является ли переодичной<h2>"
   ]
  },
  {
   "cell_type": "code",
   "execution_count": 5,
   "metadata": {},
   "outputs": [
    {
     "name": "stdout",
     "output_type": "stream",
     "text": [
      "Функция не является ни четной, ни нечетной\n"
     ]
    }
   ],
   "source": [
    "if(my_func(x) == my_func(-x)):\n",
    "    print(\"Функция четная\")\n",
    "elif(my_func(x) == -my_func(-x)):\n",
    "    print(\"Функция нечетная\")\n",
    "else:\n",
    "    print(\"Функция не является ни четной, ни нечетной\")"
   ]
  },
  {
   "cell_type": "code",
   "execution_count": 6,
   "metadata": {},
   "outputs": [
    {
     "data": {
      "text/html": [
       "<html><script type=\"math/tex; mode=display\">\\newcommand{\\Bold}[1]{\\mathbf{#1}}\\left[\\right]</script></html>"
      ],
      "text/latex": [
       "\\begin{math}\n",
       "\\newcommand{\\Bold}[1]{\\mathbf{#1}}\\left[\\right]\n",
       "\\end{math}"
      ],
      "text/plain": [
       "[]"
      ]
     },
     "metadata": {},
     "output_type": "display_data"
    },
    {
     "name": "stdout",
     "output_type": "stream",
     "text": [
      "Функция непереодическая\n"
     ]
    }
   ],
   "source": [
    "var(\"T\")\n",
    "eq1 = my_func(x) - my_func(x + T)\n",
    "show(solve(eq1, T, explicit_solutions=True)) # переменную T нельзя выразить через x, значит функция не периодическая\n",
    "print(\"Функция непереодическая\")"
   ]
  },
  {
   "cell_type": "markdown",
   "metadata": {},
   "source": [
    "<h2>№4 - Точки пересечения графика с осями координат</h2>"
   ]
  },
  {
   "cell_type": "code",
   "execution_count": 7,
   "metadata": {},
   "outputs": [
    {
     "name": "stdout",
     "output_type": "stream",
     "text": [
      "Точки пересечения с осью ОХ:\n",
      "\n"
     ]
    },
    {
     "data": {
      "text/html": [
       "<html><script type=\"math/tex; mode=display\">\\newcommand{\\Bold}[1]{\\mathbf{#1}}\\left[x = -\\frac{1}{3} \\, \\sqrt{31} - \\frac{1}{3}, x = \\frac{1}{3} \\, \\sqrt{31} - \\frac{1}{3}, x = 0\\right]</script></html>"
      ],
      "text/latex": [
       "\\begin{math}\n",
       "\\newcommand{\\Bold}[1]{\\mathbf{#1}}\\left[x = -\\frac{1}{3} \\, \\sqrt{31} - \\frac{1}{3}, x = \\frac{1}{3} \\, \\sqrt{31} - \\frac{1}{3}, x = 0\\right]\n",
       "\\end{math}"
      ],
      "text/plain": [
       "[x == -1/3*sqrt(31) - 1/3, x == 1/3*sqrt(31) - 1/3, x == 0]"
      ]
     },
     "metadata": {},
     "output_type": "display_data"
    },
    {
     "name": "stdout",
     "output_type": "stream",
     "text": [
      "Точек пересечения с осью OY - нет, так как my_func(0) не определено из области определений\n"
     ]
    }
   ],
   "source": [
    "print(\"Точки пересечения с осью ОХ:\\n\")\n",
    "show(solve(my_func(x), x))\n",
    "print(\"Точек пересечения с осью OY - нет, так как my_func(0) не определено из области определений\")"
   ]
  },
  {
   "cell_type": "markdown",
   "metadata": {},
   "source": [
    "<h2>№5 - Промежутки знакопостоянства<h2>"
   ]
  },
  {
   "cell_type": "code",
   "execution_count": 8,
   "metadata": {},
   "outputs": [
    {
     "name": "stdout",
     "output_type": "stream",
     "text": [
      "Функция принимает положительные значения на промежутке:\n"
     ]
    },
    {
     "data": {
      "text/html": [
       "<html><script type=\"math/tex; mode=display\">\\newcommand{\\Bold}[1]{\\mathbf{#1}}\\left[\\left[\\left[x > 0\\right], \\left[x < \\frac{1}{3} \\, \\sqrt{31} - \\frac{1}{3}\\right]\\right], \\left[x > \\frac{1}{3} \\, \\sqrt{31} - \\frac{1}{3}\\right]\\right]</script></html>"
      ],
      "text/latex": [
       "\\begin{math}\n",
       "\\newcommand{\\Bold}[1]{\\mathbf{#1}}\\left[\\left[\\left[x > 0\\right], \\left[x < \\frac{1}{3} \\, \\sqrt{31} - \\frac{1}{3}\\right]\\right], \\left[x > \\frac{1}{3} \\, \\sqrt{31} - \\frac{1}{3}\\right]\\right]\n",
       "\\end{math}"
      ],
      "text/plain": [
       "[[[x > 0], [x < 1/3*sqrt(31) - 1/3]], [x > 1/3*sqrt(31) - 1/3]]"
      ]
     },
     "metadata": {},
     "output_type": "display_data"
    },
    {
     "name": "stdout",
     "output_type": "stream",
     "text": [
      "Отрицательные значения на промежутке:\n"
     ]
    },
    {
     "data": {
      "text/html": [
       "<html><script type=\"math/tex; mode=display\">\\newcommand{\\Bold}[1]{\\mathbf{#1}}\\left[\\left[x < -\\frac{1}{3} \\, \\sqrt{31} - \\frac{1}{3}\\right], \\left[\\left[x > -\\frac{1}{3} \\, \\sqrt{31} - \\frac{1}{3}\\right], \\left[x < 0\\right]\\right]\\right]</script></html>"
      ],
      "text/latex": [
       "\\begin{math}\n",
       "\\newcommand{\\Bold}[1]{\\mathbf{#1}}\\left[\\left[x < -\\frac{1}{3} \\, \\sqrt{31} - \\frac{1}{3}\\right], \\left[\\left[x > -\\frac{1}{3} \\, \\sqrt{31} - \\frac{1}{3}\\right], \\left[x < 0\\right]\\right]\\right]\n",
       "\\end{math}"
      ],
      "text/plain": [
       "[[x < -1/3*sqrt(31) - 1/3], [[x > -1/3*sqrt(31) - 1/3], [x < 0]]]"
      ]
     },
     "metadata": {},
     "output_type": "display_data"
    }
   ],
   "source": [
    "print(\"Функция принимает положительные значения на промежутке:\")\n",
    "show(solve(my_func(x) > 0, x, algorithm='sympy'))\n",
    "print(\"Отрицательные значения на промежутке:\")\n",
    "show(solve(my_func(x) < 0, x, algorithm='sympy'))"
   ]
  },
  {
   "cell_type": "code",
   "execution_count": 9,
   "metadata": {},
   "outputs": [
    {
     "data": {
      "image/png": "[encoded data removed]",
      "text/plain": [
       "Graphics object consisting of 11 graphics primitives"
      ]
     },
     "metadata": {},
     "output_type": "display_data"
    }
   ],
   "source": [
    "# ось\n",
    "line_1 = plot(0, xmin=0, xmax=0.4, ymin=-0.5, ymax=0.5)\n",
    "# точки\n",
    "line_1 += point((0.2, 0), color=\"red\", size=30,  zorder=10)\n",
    "line_1 += point((0.3, 0), color=\"red\", size=30,  zorder=10)\n",
    "line_1 += point((0.1, 0), color=\"red\", size=30,  zorder=10)\n",
    "# значения точек\n",
    "line_1 += text(\"$0$\", (0.2, 0.06), color=\"black\", fontsize=14)\n",
    "line_1 += text(\"$1/3*sqrt(31)+1/3$\", (0.3, 0.06), color=\"black\", fontsize=14) # \\frac и \\sqrt не работает :(\n",
    "line_1 += text(\"$1/3*sqrt(31)-1/3$\", (0.1, 0.06), color=\"black\", fontsize=14)\n",
    "# знаки\n",
    "line_1 += text(\"+\", (0.35, 0.15), color=\"black\", fontsize=20)\n",
    "line_1 += text(\"+\", (0.25, 0.15), color=\"black\", fontsize=20)\n",
    "line_1 += text(\"-\", (0.15, 0.15), color=\"black\", fontsize=20)\n",
    "line_1 += text(\"-\", (0.05, 0.15), color=\"black\", fontsize=20)\n",
    "\n",
    "line_1.show(axes = False)"
   ]
  },
  {
   "cell_type": "markdown",
   "metadata": {},
   "source": [
    "<h2>№6 - промежутки возрастания и убывания<h2>"
   ]
  },
  {
   "cell_type": "code",
   "execution_count": 10,
   "metadata": {},
   "outputs": [
    {
     "data": {
      "text/html": [
       "<html><script type=\"math/tex; mode=display\">\\newcommand{\\Bold}[1]{\\mathbf{#1}}x \\ {\\mapsto}\\ \\frac{{\\left(3 \\, x^{3} + 2 \\, x^{2} - 10 \\, x\\right)} {\\left(9 \\, x^{2} + 4 \\, x - 10\\right)}}{8 \\, x {\\left| 3 \\, x^{3} + 2 \\, x^{2} - 10 \\, x \\right|}^{\\frac{3}{2}}} - \\frac{\\sqrt{{\\left| 3 \\, x^{3} + 2 \\, x^{2} - 10 \\, x \\right|}}}{4 \\, x^{2}}</script></html>"
      ],
      "text/latex": [
       "\\begin{math}\n",
       "\\newcommand{\\Bold}[1]{\\mathbf{#1}}x \\ {\\mapsto}\\ \\frac{{\\left(3 \\, x^{3} + 2 \\, x^{2} - 10 \\, x\\right)} {\\left(9 \\, x^{2} + 4 \\, x - 10\\right)}}{8 \\, x {\\left| 3 \\, x^{3} + 2 \\, x^{2} - 10 \\, x \\right|}^{\\frac{3}{2}}} - \\frac{\\sqrt{{\\left| 3 \\, x^{3} + 2 \\, x^{2} - 10 \\, x \\right|}}}{4 \\, x^{2}}\n",
       "\\end{math}"
      ],
      "text/plain": [
       "x |--> 1/8*(3*x^3 + 2*x^2 - 10*x)*(9*x^2 + 4*x - 10)/(x*abs(3*x^3 + 2*x^2 - 10*x)^(3/2)) - 1/4*sqrt(abs(3*x^3 + 2*x^2 - 10*x))/x^2"
      ]
     },
     "metadata": {},
     "output_type": "display_data"
    },
    {
     "data": {
      "text/html": [
       "<html><script type=\"math/tex; mode=display\">\\newcommand{\\Bold}[1]{\\mathbf{#1}}\\left[x = -\\frac{1}{3} \\, \\sqrt{31} - \\frac{1}{3}, x = \\frac{1}{3} \\, \\sqrt{31} - \\frac{1}{3}, x = -\\frac{1}{3} i \\, \\sqrt{10} \\sqrt{3}, x = \\frac{1}{3} i \\, \\sqrt{10} \\sqrt{3}, x = 0\\right]</script></html>"
      ],
      "text/latex": [
       "\\begin{math}\n",
       "\\newcommand{\\Bold}[1]{\\mathbf{#1}}\\left[x = -\\frac{1}{3} \\, \\sqrt{31} - \\frac{1}{3}, x = \\frac{1}{3} \\, \\sqrt{31} - \\frac{1}{3}, x = -\\frac{1}{3} i \\, \\sqrt{10} \\sqrt{3}, x = \\frac{1}{3} i \\, \\sqrt{10} \\sqrt{3}, x = 0\\right]\n",
       "\\end{math}"
      ],
      "text/plain": [
       "[x == -1/3*sqrt(31) - 1/3, x == 1/3*sqrt(31) - 1/3, x == -1/3*I*sqrt(10)*sqrt(3), x == 1/3*I*sqrt(10)*sqrt(3), x == 0]"
      ]
     },
     "metadata": {},
     "output_type": "display_data"
    }
   ],
   "source": [
    "d(x) = diff(my_func(x), x)  # производная функции\n",
    "show(simplify(d))\n",
    "ext = solve(d, x)\n",
    "show(ext)"
   ]
  },
  {
   "cell_type": "code",
   "execution_count": 11,
   "metadata": {},
   "outputs": [
    {
     "data": {
      "image/png": "[encoded data removed]",
      "text/plain": [
       "Graphics object consisting of 17 graphics primitives"
      ]
     },
     "metadata": {},
     "output_type": "display_data"
    }
   ],
   "source": [
    "# ось\n",
    "line_2 = plot(0, xmin=0, xmax=0.6, ymin=-0.5, ymax=0.5)\n",
    "# точки\n",
    "line_2 += point((0.1, 0), color=\"red\", size=30,  zorder=10)\n",
    "line_2 += point((0.2, 0), color=\"red\", size=30,  zorder=10)\n",
    "line_2 += point((0.3, 0), color=\"red\", size=30,  zorder=10)\n",
    "line_2 += point((0.4, 0), color=\"red\", size=30,  zorder=10)\n",
    "line_2 += point((0.5, 0), color=\"red\", size=30,  zorder=10)\n",
    "# значения точек\n",
    "line_2 += text(\"$0$\", (0.3, 0.08), color=\"black\", fontsize=14)\n",
    "line_2 += text(\"$1/3*sqrt(31)+1/3$\", (0.1, 0.08), color=\"black\", fontsize=14) # \\frac и \\sqrt не работает :(\n",
    "line_2 += text(\"$1/3*sqrt(31)-1/3$\", (0.5, 0.08), color=\"black\", fontsize=14)\n",
    "line_2 += text(\"$-1/3*I*sqrt(10)*sqrt(3)$\", (0.2, -0.08), color=\"black\", fontsize=10)\n",
    "line_2 += text(\"$1/3*I*sqrt(10)*sqrt(3)$\", (0.4, -0.08), color=\"black\", fontsize=10)\n",
    "# знаки\n",
    "line_2 += text(\"+\", (0.05, 0.15), color=\"black\", fontsize=15)\n",
    "line_2 += text(\"+\", (0.15, 0.15), color=\"black\", fontsize=15)\n",
    "line_2 += text(\"-\", (0.25, 0.15), color=\"black\", fontsize=15)\n",
    "line_2 += text(\"+\", (0.35, 0.15), color=\"black\", fontsize=15)\n",
    "line_2 += text(\"-\", (0.45, 0.15), color=\"black\", fontsize=15)\n",
    "line_2 += text(\"-\", (0.55, 0.15), color=\"black\", fontsize=15)\n",
    "\n",
    "line_2.show(axes = False)"
   ]
  },
  {
   "cell_type": "markdown",
   "metadata": {},
   "source": [
    "<h2>№7 - точки экстремума и значения в этих точках<h2>"
   ]
  },
  {
   "cell_type": "code",
   "execution_count": 12,
   "metadata": {},
   "outputs": [
    {
     "name": "stdout",
     "output_type": "stream",
     "text": [
      "Точки экстремума:\n"
     ]
    },
    {
     "data": {
      "text/html": [
       "<html><script type=\"math/tex; mode=display\">\\newcommand{\\Bold}[1]{\\mathbf{#1}}\\left[x = -\\frac{1}{3} \\, \\sqrt{31} - \\frac{1}{3}, x = \\frac{1}{3} \\, \\sqrt{31} - \\frac{1}{3}, x = -\\frac{1}{3} i \\, \\sqrt{10} \\sqrt{3}, x = \\frac{1}{3} i \\, \\sqrt{10} \\sqrt{3}, x = 0\\right]</script></html>"
      ],
      "text/latex": [
       "\\begin{math}\n",
       "\\newcommand{\\Bold}[1]{\\mathbf{#1}}\\left[x = -\\frac{1}{3} \\, \\sqrt{31} - \\frac{1}{3}, x = \\frac{1}{3} \\, \\sqrt{31} - \\frac{1}{3}, x = -\\frac{1}{3} i \\, \\sqrt{10} \\sqrt{3}, x = \\frac{1}{3} i \\, \\sqrt{10} \\sqrt{3}, x = 0\\right]\n",
       "\\end{math}"
      ],
      "text/plain": [
       "[x == -1/3*sqrt(31) - 1/3, x == 1/3*sqrt(31) - 1/3, x == -1/3*I*sqrt(10)*sqrt(3), x == 1/3*I*sqrt(10)*sqrt(3), x == 0]"
      ]
     },
     "metadata": {},
     "output_type": "display_data"
    }
   ],
   "source": [
    "print(\"Точки экстремума:\")\n",
    "show(ext)"
   ]
  },
  {
   "cell_type": "code",
   "execution_count": 13,
   "metadata": {},
   "outputs": [
    {
     "name": "stdout",
     "output_type": "stream",
     "text": [
      "Значения функции в точке экстремума:\n"
     ]
    },
    {
     "data": {
      "text/html": [
       "<html><script type=\"math/tex; mode=display\">\\newcommand{\\Bold}[1]{\\mathbf{#1}}\\left[0, 0.00513, 0.834i, -0.834i\\right]</script></html>"
      ],
      "text/latex": [
       "\\begin{math}\n",
       "\\newcommand{\\Bold}[1]{\\mathbf{#1}}\\left[0, 0.00513, 0.834i, -0.834i\\right]\n",
       "\\end{math}"
      ],
      "text/plain": [
       "[0, 0.00513, 0.834*I, -0.834*I]"
      ]
     },
     "metadata": {},
     "output_type": "display_data"
    }
   ],
   "source": [
    "y_ext = []\n",
    "for dot in ext:\n",
    "    if dot.rhs():\n",
    "        y_ext.append(my_func(dot.rhs().n(digits=3)))\n",
    "print(\"Значения функции в точке экстремума:\")\n",
    "show(y_ext)"
   ]
  },
  {
   "cell_type": "markdown",
   "metadata": {},
   "source": [
    "<h2>№8 - Исследовать поведение функции в окрестности «особых» точек и при больших по модулю x<h2>"
   ]
  },
  {
   "cell_type": "code",
   "execution_count": 14,
   "metadata": {},
   "outputs": [
    {
     "name": "stdout",
     "output_type": "stream",
     "text": [
      "x -> 0-: f(x) -> -Infinity\n",
      "x -> 0+: f(x) -> +Infinity\n",
      "x -> -infinity: f(x) -> -Infinity\n",
      "x -> +infinity: f(x) -> +Infinity\n"
     ]
    }
   ],
   "source": [
    "print(\"x -> 0-: f(x) ->\", limit(my_func(x), x = 0, dir='-'))\n",
    "print(\"x -> 0+: f(x) ->\", limit(my_func(x), x = 0, dir='+'))\n",
    "print(\"x -> -infinity: f(x) ->\", limit(my_func(x), x = -oo))\n",
    "print(\"x -> +infinity: f(x) ->\", limit(my_func(x), x = oo))"
   ]
  },
  {
   "cell_type": "markdown",
   "metadata": {},
   "source": [
    "<h2>№9 - Непрерывность. Наличие точек разрыва и их классификация.<h2>"
   ]
  },
  {
   "cell_type": "code",
   "execution_count": 15,
   "metadata": {},
   "outputs": [
    {
     "name": "stdout",
     "output_type": "stream",
     "text": [
      "x -> 0-: f(x) -> -Infinity\n",
      "x -> 0+: f(x) -> +Infinity\n"
     ]
    }
   ],
   "source": [
    "# В точке x = 0:\n",
    "print(\"x -> 0-: f(x) ->\", limit(my_func(x), x = 0, dir='-'))\n",
    "print(\"x -> 0+: f(x) ->\", limit(my_func(x), x = 0, dir='+'))\n",
    "# Следовательно x = 0 - точка разрыва второго рода по определению"
   ]
  },
  {
   "cell_type": "markdown",
   "metadata": {},
   "source": [
    "<h2>№10 - Асимптоты. Найти необходимые пределы, построить асимптоты на графике.<h2>"
   ]
  },
  {
   "cell_type": "code",
   "execution_count": 16,
   "metadata": {},
   "outputs": [
    {
     "data": {
      "text/html": [
       "<html><script type=\"math/tex; mode=display\">\\newcommand{\\Bold}[1]{\\mathbf{#1}}x \\ {\\mapsto}\\ +\\infty</script></html>"
      ],
      "text/latex": [
       "\\begin{math}\n",
       "\\newcommand{\\Bold}[1]{\\mathbf{#1}}x \\ {\\mapsto}\\ +\\infty\n",
       "\\end{math}"
      ],
      "text/plain": [
       "x |--> +Infinity"
      ]
     },
     "metadata": {},
     "output_type": "display_data"
    },
    {
     "name": "stdout",
     "output_type": "stream",
     "text": [
      "Следовательно горизонтальных асимптот нету\n",
      "Вертикальная асимптота x = 0 по определению, т.к. это точка разрыва, где значение функции уходит в бесконечность, а в самой точке функция не определена.\n"
     ]
    },
    {
     "data": {
      "image/png": "[encoded data removed]",
      "text/plain": [
       "Graphics object consisting of 2 graphics primitives"
      ]
     },
     "metadata": {},
     "output_type": "display_data"
    }
   ],
   "source": [
    "k = limit(my_func(x)/x, x = oo)\n",
    "b = limit(my_func(x) - k * x, x = oo)\n",
    "g(x) = k * x + b  # ассимптота\n",
    "show(g)\n",
    "print(\"Следовательно горизонтальных асимптот нету\")\n",
    "print(\"Вертикальная асимптота x = 0 по определению, т.к. это точка разрыва, где значение функции уходит в бесконечность, а в самой точке функция не определена.\")\n",
    "line1 = plot(line([[0, -4],[0, 4]], linestyle=\"dashed\", rgbcolor=hue(1), thickness=3))\n",
    "show(plot(my_func, xmin = -8, xmax = 8, ymin = -3, ymax = 3) + line1)"
   ]
  }
 ],
 "metadata": {
  "kernelspec": {
   "display_name": "SageMath 9.2",
   "language": "sage",
   "name": "sagemath"
  },
  "language_info": {
   "codemirror_mode": {
    "name": "ipython",
    "version": 3
   },
   "file_extension": ".py",
   "mimetype": "text/x-python",
   "name": "python",
   "nbconvert_exporter": "python",
   "pygments_lexer": "ipython3",
   "version": "3.7.7"
  }
 },
 "nbformat": 4,
 "nbformat_minor": 4
}
