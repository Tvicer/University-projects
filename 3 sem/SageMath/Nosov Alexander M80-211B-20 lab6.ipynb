{
 "cells": [
  {
   "cell_type": "markdown",
   "metadata": {},
   "source": [
    "Задача 6 Носов Александр Вариант 5"
   ]
  },
  {
   "cell_type": "markdown",
   "metadata": {},
   "source": [
    "НОД двух полиномов - алгоритм Евклида"
   ]
  },
  {
   "cell_type": "code",
   "execution_count": 1,
   "metadata": {},
   "outputs": [],
   "source": [
    "R.<x> = PolynomialRing(QQ, 'x')"
   ]
  },
  {
   "cell_type": "code",
   "execution_count": 2,
   "metadata": {},
   "outputs": [
    {
     "data": {
      "text/html": [
       "<html><script type=\"math/tex; mode=display\">\\newcommand{\\Bold}[1]{\\mathbf{#1}}x^{8} - 7 x^{7} - 6 x^{6} + 54 x^{5} - 30 x^{4} - 94 x^{3} + 117 x^{2} - 15 x</script></html>"
      ],
      "text/latex": [
       "\\begin{math}\n",
       "\\newcommand{\\Bold}[1]{\\mathbf{#1}}x^{8} - 7 x^{7} - 6 x^{6} + 54 x^{5} - 30 x^{4} - 94 x^{3} + 117 x^{2} - 15 x\n",
       "\\end{math}"
      ],
      "text/plain": [
       "x^8 - 7*x^7 - 6*x^6 + 54*x^5 - 30*x^4 - 94*x^3 + 117*x^2 - 15*x"
      ]
     },
     "metadata": {},
     "output_type": "display_data"
    },
    {
     "data": {
      "text/html": [
       "<html><script type=\"math/tex; mode=display\">\\newcommand{\\Bold}[1]{\\mathbf{#1}}x^{6} - 7 x^{4} + 5 x^{3} + 12 x^{2} - 15 x</script></html>"
      ],
      "text/latex": [
       "\\begin{math}\n",
       "\\newcommand{\\Bold}[1]{\\mathbf{#1}}x^{6} - 7 x^{4} + 5 x^{3} + 12 x^{2} - 15 x\n",
       "\\end{math}"
      ],
      "text/plain": [
       "x^6 - 7*x^4 + 5*x^3 + 12*x^2 - 15*x"
      ]
     },
     "metadata": {},
     "output_type": "display_data"
    }
   ],
   "source": [
    "f = (4*x^8 - 28*x^7 - 24*x^6 + 216*x^5 - 120*x^4 - 376*x^3 + 468*x^2 - 60*x)/4\n",
    "g = (4*x^6 - 28*x^4 + 20*x^3 + 48*x^2 - 60*x)/4\n",
    "show(f)\n",
    "show(g)"
   ]
  },
  {
   "cell_type": "code",
   "execution_count": 3,
   "metadata": {},
   "outputs": [],
   "source": [
    "def my_gcd(x, y):\n",
    "    u1 = 1\n",
    "    u2 = 0\n",
    "    g1 = 0\n",
    "    g2 = 1\n",
    "    \n",
    "    while y:\n",
    "        if x % y == x:\n",
    "            return [1, u1, g1]\n",
    "        \n",
    "        q = x // y\n",
    "        \n",
    "        temp = x\n",
    "        x = y\n",
    "        y = temp - y * q\n",
    "    \n",
    "        temp = g2\n",
    "        g2 = g1 - g2*q\n",
    "        g1 = temp\n",
    "    \n",
    "        temp = u2\n",
    "        u2 = u1 - u2*q\n",
    "        u1 = temp\n",
    "\n",
    "    return [x, u1, g1]\n"
   ]
  },
  {
   "cell_type": "code",
   "execution_count": 5,
   "metadata": {},
   "outputs": [
    {
     "data": {
      "text/html": [
       "<html><script type=\"math/tex; mode=display\">\\newcommand{\\Bold}[1]{\\mathbf{#1}}\\left[x^{6} - 7 x^{4} + 5 x^{3} + 12 x^{2} - 15 x, 0, 1\\right]</script></html>"
      ],
      "text/latex": [
       "\\begin{math}\n",
       "\\newcommand{\\Bold}[1]{\\mathbf{#1}}\\left[x^{6} - 7 x^{4} + 5 x^{3} + 12 x^{2} - 15 x, 0, 1\\right]\n",
       "\\end{math}"
      ],
      "text/plain": [
       "[x^6 - 7*x^4 + 5*x^3 + 12*x^2 - 15*x, 0, 1]"
      ]
     },
     "metadata": {},
     "output_type": "display_data"
    },
    {
     "name": "stdout",
     "output_type": "stream",
     "text": [
      "Ответ верный!\n"
     ]
    },
    {
     "data": {
      "text/html": [
       "<html><script type=\"math/tex; mode=display\">\\newcommand{\\Bold}[1]{\\mathbf{#1}}x^{6} - 7 x^{4} + 5 x^{3} + 12 x^{2} - 15 x \\verb|=| x^{6} - 7 x^{4} + 5 x^{3} + 12 x^{2} - 15 x</script></html>"
      ],
      "text/latex": [
       "\\begin{math}\n",
       "\\newcommand{\\Bold}[1]{\\mathbf{#1}}x^{6} - 7 x^{4} + 5 x^{3} + 12 x^{2} - 15 x \\verb|=| x^{6} - 7 x^{4} + 5 x^{3} + 12 x^{2} - 15 x\n",
       "\\end{math}"
      ],
      "text/plain": [
       "x^6 - 7*x^4 + 5*x^3 + 12*x^2 - 15*x '=' x^6 - 7*x^4 + 5*x^3 + 12*x^2 - 15*x"
      ]
     },
     "metadata": {},
     "output_type": "display_data"
    },
    {
     "name": "stdout",
     "output_type": "stream",
     "text": [
      "u(x) =  0\n",
      "g(x) =  1\n",
      "Предствим НОД в виде: f*u + v*g\n"
     ]
    },
    {
     "data": {
      "text/html": [
       "<html><script type=\"math/tex; mode=display\">\\newcommand{\\Bold}[1]{\\mathbf{#1}}\\verb|(| 0 \\verb|)|\\phantom{\\verb!x!}\\verb|*|\\phantom{\\verb!x!}\\verb|(| x^{8} - 7 x^{7} - 6 x^{6} + 54 x^{5} - 30 x^{4} - 94 x^{3} + 117 x^{2} - 15 x \\verb|)|\\phantom{\\verb!x!}\\verb|+|\\phantom{\\verb!x!}\\verb|(| 1 \\verb|)|\\phantom{\\verb!x!}\\verb|*|\\phantom{\\verb!x!}\\verb|(| x^{6} - 7 x^{4} + 5 x^{3} + 12 x^{2} - 15 x \\verb|)|\\phantom{\\verb!x!}\\verb|=| 0</script></html>"
      ],
      "text/latex": [
       "\\begin{math}\n",
       "\\newcommand{\\Bold}[1]{\\mathbf{#1}}\\verb|(| 0 \\verb|)|\\phantom{\\verb!x!}\\verb|*|\\phantom{\\verb!x!}\\verb|(| x^{8} - 7 x^{7} - 6 x^{6} + 54 x^{5} - 30 x^{4} - 94 x^{3} + 117 x^{2} - 15 x \\verb|)|\\phantom{\\verb!x!}\\verb|+|\\phantom{\\verb!x!}\\verb|(| 1 \\verb|)|\\phantom{\\verb!x!}\\verb|*|\\phantom{\\verb!x!}\\verb|(| x^{6} - 7 x^{4} + 5 x^{3} + 12 x^{2} - 15 x \\verb|)|\\phantom{\\verb!x!}\\verb|=| 0\n",
       "\\end{math}"
      ],
      "text/plain": [
       "'(' 0 ') * (' x^8 - 7*x^7 - 6*x^6 + 54*x^5 - 30*x^4 - 94*x^3 + 117*x^2 - 15*x ') + (' 1 ') * (' x^6 - 7*x^4 + 5*x^3 + 12*x^2 - 15*x ') = ' 0"
      ]
     },
     "metadata": {},
     "output_type": "display_data"
    }
   ],
   "source": [
    "res = gcd(f, g)\n",
    "my_res = my_gcd(f, g)\n",
    "show(my_res)\n",
    "\n",
    "if my_res[0] == res:\n",
    "    print(\"Ответ верный!\")\n",
    "    show(my_res[0], \"=\", res)\n",
    "    print(\"u(x) = \", my_res[1])\n",
    "    print(\"g(x) = \", my_res[2])\n",
    "    print(\"Предствим НОД в виде: f*u + v*g\")\n",
    "    show(\"(\", my_res[1], \") * (\", f, \") + (\", my_res[2], \") * (\", g, \") = \", res[0])\n",
    "else:\n",
    "    print(\"Ответ не верный!\")\n",
    "    show(my_res[0], \"!=\", res)"
   ]
  },
  {
   "cell_type": "code",
   "execution_count": null,
   "metadata": {},
   "outputs": [],
   "source": []
  }
 ],
 "metadata": {
  "kernelspec": {
   "display_name": "SageMath 9.2",
   "language": "sage",
   "name": "sagemath"
  },
  "language_info": {
   "codemirror_mode": {
    "name": "ipython",
    "version": 3
   },
   "file_extension": ".py",
   "mimetype": "text/x-python",
   "name": "python",
   "nbconvert_exporter": "python",
   "pygments_lexer": "ipython3",
   "version": "3.7.7"
  }
 },
 "nbformat": 4,
 "nbformat_minor": 4
}
