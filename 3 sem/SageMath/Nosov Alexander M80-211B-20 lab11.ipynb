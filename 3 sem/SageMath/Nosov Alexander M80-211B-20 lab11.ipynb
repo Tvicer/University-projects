{
 "cells": [
  {
   "cell_type": "markdown",
   "metadata": {},
   "source": [
    "Задача 11 Носов Александр Вариант 17"
   ]
  },
  {
   "cell_type": "markdown",
   "metadata": {},
   "source": [
    "Линейный оператор и базисы"
   ]
  },
  {
   "cell_type": "code",
   "execution_count": 1,
   "metadata": {},
   "outputs": [
    {
     "data": {
      "text/html": [
       "<html><script type=\"math/tex; mode=display\">\\newcommand{\\Bold}[1]{\\mathbf{#1}}\\verb|А|\\phantom{\\verb!x!}\\verb|=| \\left(\\begin{array}{rrr}\n",
       "7 & -6 & 6 \\\\\n",
       "2 & 3 & 2 \\\\\n",
       "2 & 2 & 3\n",
       "\\end{array}\\right)</script></html>"
      ],
      "text/latex": [
       "\\begin{math}\n",
       "\\newcommand{\\Bold}[1]{\\mathbf{#1}}\\verb|А|\\phantom{\\verb!x!}\\verb|=| \\left(\\begin{array}{rrr}\n",
       "7 & -6 & 6 \\\\\n",
       "2 & 3 & 2 \\\\\n",
       "2 & 2 & 3\n",
       "\\end{array}\\right)\n",
       "\\end{math}"
      ],
      "text/plain": [
       "'А = ' [ 7 -6  6]\n",
       "[ 2  3  2]\n",
       "[ 2  2  3]"
      ]
     },
     "metadata": {},
     "output_type": "display_data"
    }
   ],
   "source": [
    "A = matrix(QQ, [[7, -6, 6], [2, 3, 2], [2, 2, 3]])\n",
    "show(\"А = \", A)"
   ]
  },
  {
   "cell_type": "markdown",
   "metadata": {},
   "source": [
    "Нахождение характеристического уравнения:"
   ]
  },
  {
   "cell_type": "code",
   "execution_count": 2,
   "metadata": {},
   "outputs": [
    {
     "data": {
      "text/html": [
       "<html><script type=\"math/tex; mode=display\">\\newcommand{\\Bold}[1]{\\mathbf{#1}}\\lambda_{x}^{3} - 13 \\, \\lambda_{x}^{2} + 47 \\, \\lambda_{x} - 35</script></html>"
      ],
      "text/latex": [
       "\\begin{math}\n",
       "\\newcommand{\\Bold}[1]{\\mathbf{#1}}\\lambda_{x}^{3} - 13 \\, \\lambda_{x}^{2} + 47 \\, \\lambda_{x} - 35\n",
       "\\end{math}"
      ],
      "text/plain": [
       "lambda_x^3 - 13*lambda_x^2 + 47*lambda_x - 35"
      ]
     },
     "metadata": {},
     "output_type": "display_data"
    },
    {
     "data": {
      "text/html": [
       "<html><script type=\"math/tex; mode=display\">\\newcommand{\\Bold}[1]{\\mathbf{#1}}\\lambda_{x}^{3} - 13 \\, \\lambda_{x}^{2} + 47 \\, \\lambda_{x} - 35 \\phantom{\\verb!x!}\\verb|=|\\phantom{\\verb!x!}\\verb|0|</script></html>"
      ],
      "text/latex": [
       "\\begin{math}\n",
       "\\newcommand{\\Bold}[1]{\\mathbf{#1}}\\lambda_{x}^{3} - 13 \\, \\lambda_{x}^{2} + 47 \\, \\lambda_{x} - 35 \\phantom{\\verb!x!}\\verb|=|\\phantom{\\verb!x!}\\verb|0|\n",
       "\\end{math}"
      ],
      "text/plain": [
       "lambda_x^3 - 13*lambda_x^2 + 47*lambda_x - 35 ' = 0'"
      ]
     },
     "metadata": {},
     "output_type": "display_data"
    }
   ],
   "source": [
    "var(\"lambda_x\")\n",
    "show(det(A-lambda_x*identity_matrix(3)).expand()*-1)\n",
    "eq1 = det(A - lambda_x*identity_matrix(3)).expand() * -1\n",
    "characteristic_equation = A.charpoly(x)(x=lambda_x)\n",
    "show(characteristic_equation, \" = 0\")"
   ]
  },
  {
   "cell_type": "markdown",
   "metadata": {},
   "source": [
    "Решение характеристического уравнения:"
   ]
  },
  {
   "cell_type": "markdown",
   "metadata": {},
   "source": [
    "$x^3 + a*x^2 + b*x + c = 0$"
   ]
  },
  {
   "cell_type": "markdown",
   "metadata": {},
   "source": [
    "Делаем замену: $x = z - \\frac{a}{3}$.<br>\n",
    "$a = -13$.<br>\n",
    "$x = z + \\frac{13}{3}$.<br>"
   ]
  },
  {
   "cell_type": "code",
   "execution_count": 3,
   "metadata": {},
   "outputs": [
    {
     "data": {
      "text/html": [
       "<html><script type=\"math/tex; mode=display\">\\newcommand{\\Bold}[1]{\\mathbf{#1}}\\frac{1}{27} \\, {\\left(3 \\, z + 13\\right)}^{3} - \\frac{13}{9} \\, {\\left(3 \\, z + 13\\right)}^{2} + 47 \\, z + \\frac{506}{3}</script></html>"
      ],
      "text/latex": [
       "\\begin{math}\n",
       "\\newcommand{\\Bold}[1]{\\mathbf{#1}}\\frac{1}{27} \\, {\\left(3 \\, z + 13\\right)}^{3} - \\frac{13}{9} \\, {\\left(3 \\, z + 13\\right)}^{2} + 47 \\, z + \\frac{506}{3}\n",
       "\\end{math}"
      ],
      "text/plain": [
       "1/27*(3*z + 13)^3 - 13/9*(3*z + 13)^2 + 47*z + 506/3"
      ]
     },
     "metadata": {},
     "output_type": "display_data"
    },
    {
     "data": {
      "text/html": [
       "<html><script type=\"math/tex; mode=display\">\\newcommand{\\Bold}[1]{\\mathbf{#1}}z^{3} - \\frac{28}{3} \\, z + \\frac{160}{27} \\phantom{\\verb!x!}\\verb|=|\\phantom{\\verb!x!}\\verb|0|</script></html>"
      ],
      "text/latex": [
       "\\begin{math}\n",
       "\\newcommand{\\Bold}[1]{\\mathbf{#1}}z^{3} - \\frac{28}{3} \\, z + \\frac{160}{27} \\phantom{\\verb!x!}\\verb|=|\\phantom{\\verb!x!}\\verb|0|\n",
       "\\end{math}"
      ],
      "text/plain": [
       "z^3 - 28/3*z + 160/27 ' = 0'"
      ]
     },
     "metadata": {},
     "output_type": "display_data"
    }
   ],
   "source": [
    "var(\"z\")\n",
    "poly_z = characteristic_equation(lambda_x = z + 13/3)\n",
    "show(poly_z)\n",
    "show(poly_z.expand().simplify(), \" = 0\")"
   ]
  },
  {
   "cell_type": "markdown",
   "metadata": {},
   "source": [
    "$z^3 + p*z + q = 0$"
   ]
  },
  {
   "cell_type": "code",
   "execution_count": 4,
   "metadata": {},
   "outputs": [],
   "source": [
    "p = -28/3\n",
    "q = 160/27"
   ]
  },
  {
   "cell_type": "markdown",
   "metadata": {},
   "source": [
    "Вычисляем значения u и v по формулам:\n",
    "$$u = \\left(-\\frac{q}{2} + \\left(\\frac{q^2}{4} + \\frac{p^3}{27}\\right)^{1/2}\\right)^{1/3}$$\n",
    "$$v = \\left(-\\frac{q}{2} - \\left(\\frac{q^2}{4} + \\frac{p^3}{27}\\right)^{1/2}\\right)^{1/3}$$"
   ]
  },
  {
   "cell_type": "code",
   "execution_count": 5,
   "metadata": {},
   "outputs": [
    {
     "data": {
      "text/html": [
       "<html><script type=\"math/tex; mode=display\">\\newcommand{\\Bold}[1]{\\mathbf{#1}}\\verb|u|\\phantom{\\verb!x!}\\verb|=| 1.333 + 1.155i</script></html>"
      ],
      "text/latex": [
       "\\begin{math}\n",
       "\\newcommand{\\Bold}[1]{\\mathbf{#1}}\\verb|u|\\phantom{\\verb!x!}\\verb|=| 1.333 + 1.155i\n",
       "\\end{math}"
      ],
      "text/plain": [
       "'u =' 1.333 + 1.155*I"
      ]
     },
     "metadata": {},
     "output_type": "display_data"
    },
    {
     "data": {
      "text/html": [
       "<html><script type=\"math/tex; mode=display\">\\newcommand{\\Bold}[1]{\\mathbf{#1}}\\verb|v|\\phantom{\\verb!x!}\\verb|=| 1.333 - 1.155i</script></html>"
      ],
      "text/latex": [
       "\\begin{math}\n",
       "\\newcommand{\\Bold}[1]{\\mathbf{#1}}\\verb|v|\\phantom{\\verb!x!}\\verb|=| 1.333 - 1.155i\n",
       "\\end{math}"
      ],
      "text/plain": [
       "'v =' 1.333 - 1.155*I"
      ]
     },
     "metadata": {},
     "output_type": "display_data"
    }
   ],
   "source": [
    "u = (-q/2 + ((q**2)/4 + (p**3)/27)**(1/2))**(1/3)\n",
    "v = (-q/2 - ((q**2)/4 + (p**3)/27)**(1/2))**(1/3)\n",
    "show(\"u =\", u.n(digits=4))\n",
    "show(\"v =\", v.n(digits=4))"
   ]
  },
  {
   "cell_type": "code",
   "execution_count": 6,
   "metadata": {},
   "outputs": [
    {
     "data": {
      "text/html": [
       "<html><script type=\"math/tex; mode=display\">\\newcommand{\\Bold}[1]{\\mathbf{#1}}\\verb|E|\\phantom{\\verb!x!}\\verb|=| \\frac{1}{2} \\, \\sqrt{-3} - \\frac{1}{2}</script></html>"
      ],
      "text/latex": [
       "\\begin{math}\n",
       "\\newcommand{\\Bold}[1]{\\mathbf{#1}}\\verb|E|\\phantom{\\verb!x!}\\verb|=| \\frac{1}{2} \\, \\sqrt{-3} - \\frac{1}{2}\n",
       "\\end{math}"
      ],
      "text/plain": [
       "'E =' 1/2*sqrt(-3) - 1/2"
      ]
     },
     "metadata": {},
     "output_type": "display_data"
    }
   ],
   "source": [
    "E = -1/2 + (sqrt(-3))/2\n",
    "show(\"E =\", E)"
   ]
  },
  {
   "cell_type": "code",
   "execution_count": 7,
   "metadata": {},
   "outputs": [
    {
     "data": {
      "text/html": [
       "<html><script type=\"math/tex; mode=display\">\\newcommand{\\Bold}[1]{\\mathbf{#1}}\\verb|z1|\\phantom{\\verb!x!}\\verb|=| 2.67</script></html>"
      ],
      "text/latex": [
       "\\begin{math}\n",
       "\\newcommand{\\Bold}[1]{\\mathbf{#1}}\\verb|z1|\\phantom{\\verb!x!}\\verb|=| 2.67\n",
       "\\end{math}"
      ],
      "text/plain": [
       "'z1 =' 2.67"
      ]
     },
     "metadata": {},
     "output_type": "display_data"
    },
    {
     "data": {
      "text/html": [
       "<html><script type=\"math/tex; mode=display\">\\newcommand{\\Bold}[1]{\\mathbf{#1}}\\verb|z2|\\phantom{\\verb!x!}\\verb|=| -3.33</script></html>"
      ],
      "text/latex": [
       "\\begin{math}\n",
       "\\newcommand{\\Bold}[1]{\\mathbf{#1}}\\verb|z2|\\phantom{\\verb!x!}\\verb|=| -3.33\n",
       "\\end{math}"
      ],
      "text/plain": [
       "'z2 =' -3.33"
      ]
     },
     "metadata": {},
     "output_type": "display_data"
    },
    {
     "data": {
      "text/html": [
       "<html><script type=\"math/tex; mode=display\">\\newcommand{\\Bold}[1]{\\mathbf{#1}}\\verb|z3=| 0.667</script></html>"
      ],
      "text/latex": [
       "\\begin{math}\n",
       "\\newcommand{\\Bold}[1]{\\mathbf{#1}}\\verb|z3=| 0.667\n",
       "\\end{math}"
      ],
      "text/plain": [
       "'z3=' 0.667"
      ]
     },
     "metadata": {},
     "output_type": "display_data"
    }
   ],
   "source": [
    "z1 = u + v\n",
    "z2 = u * E + v * E**2\n",
    "z3 = u * E**2 + v * E\n",
    "show(\"z1 =\", z1.n(digits=3))\n",
    "show(\"z2 =\", z2.n(digits=3))\n",
    "show(\"z3=\", z3.n(digits=3))"
   ]
  },
  {
   "cell_type": "code",
   "execution_count": 8,
   "metadata": {},
   "outputs": [
    {
     "data": {
      "text/html": [
       "<html><script type=\"math/tex; mode=display\">\\newcommand{\\Bold}[1]{\\mathbf{#1}}\\verb|D=| 2304</script></html>"
      ],
      "text/latex": [
       "\\begin{math}\n",
       "\\newcommand{\\Bold}[1]{\\mathbf{#1}}\\verb|D=| 2304\n",
       "\\end{math}"
      ],
      "text/plain": [
       "'D=' 2304"
      ]
     },
     "metadata": {},
     "output_type": "display_data"
    }
   ],
   "source": [
    "D = -4*p^3 - 27*q^2\n",
    "show(\"D=\", D)"
   ]
  },
  {
   "cell_type": "markdown",
   "metadata": {},
   "source": [
    "D > 0, следовательно 3 действительных кореня"
   ]
  },
  {
   "cell_type": "code",
   "execution_count": 9,
   "metadata": {},
   "outputs": [
    {
     "data": {
      "text/html": [
       "<html><script type=\"math/tex; mode=display\">\\newcommand{\\Bold}[1]{\\mathbf{#1}}\\verb|x1=| 7.00</script></html>"
      ],
      "text/latex": [
       "\\begin{math}\n",
       "\\newcommand{\\Bold}[1]{\\mathbf{#1}}\\verb|x1=| 7.00\n",
       "\\end{math}"
      ],
      "text/plain": [
       "'x1=' 7.00"
      ]
     },
     "metadata": {},
     "output_type": "display_data"
    },
    {
     "data": {
      "text/html": [
       "<html><script type=\"math/tex; mode=display\">\\newcommand{\\Bold}[1]{\\mathbf{#1}}\\verb|x2=| 1.00</script></html>"
      ],
      "text/latex": [
       "\\begin{math}\n",
       "\\newcommand{\\Bold}[1]{\\mathbf{#1}}\\verb|x2=| 1.00\n",
       "\\end{math}"
      ],
      "text/plain": [
       "'x2=' 1.00"
      ]
     },
     "metadata": {},
     "output_type": "display_data"
    },
    {
     "data": {
      "text/html": [
       "<html><script type=\"math/tex; mode=display\">\\newcommand{\\Bold}[1]{\\mathbf{#1}}\\verb|x3=| 5.00</script></html>"
      ],
      "text/latex": [
       "\\begin{math}\n",
       "\\newcommand{\\Bold}[1]{\\mathbf{#1}}\\verb|x3=| 5.00\n",
       "\\end{math}"
      ],
      "text/plain": [
       "'x3=' 5.00"
      ]
     },
     "metadata": {},
     "output_type": "display_data"
    }
   ],
   "source": [
    "x1 = z1 + 13/3\n",
    "x2 = z2 + 13/3\n",
    "x3 = z3 + 13/3\n",
    "\n",
    "show(\"x1=\", x1.n(digits=3))\n",
    "\n",
    "show(\"x2=\", x2.n(digits=3))\n",
    "phi = atan2(x2.n(digits=3).imag(), x2.n(digits=3).real()).n(digits=3)\n",
    "x2_abs = x2.n(digits=3).abs().n(digits=3)\n",
    "\n",
    "show(\"x3=\", x3.n(digits=3))\n",
    "phi = atan2(x3.n(digits=3).imag(), x3.n(digits=3).real()).n(digits=3)\n",
    "x3_abs = x3.n(digits=3).abs().n(digits=3)"
   ]
  },
  {
   "cell_type": "markdown",
   "metadata": {},
   "source": [
    "Нахождение собственных чисел и собственных векторов:"
   ]
  },
  {
   "cell_type": "code",
   "execution_count": 10,
   "metadata": {},
   "outputs": [
    {
     "data": {
      "text/html": [
       "<html><script type=\"math/tex; mode=display\">\\newcommand{\\Bold}[1]{\\mathbf{#1}}\\lambda _0 = 7; k_0 = 1;</script></html>"
      ],
      "text/latex": [
       "\\begin{math}\n",
       "\\newcommand{\\Bold}[1]{\\mathbf{#1}}\\lambda _0 = 7; k_0 = 1;\n",
       "\\end{math}"
      ],
      "text/plain": [
       "\\lambda _0 = 7; k_0 = 1;"
      ]
     },
     "metadata": {},
     "output_type": "display_data"
    },
    {
     "data": {
      "text/html": [
       "<html><script type=\"math/tex; mode=display\">\\newcommand{\\Bold}[1]{\\mathbf{#1}}v_{0} =  \\left(1,\\,1,\\,1\\right)</script></html>"
      ],
      "text/latex": [
       "\\begin{math}\n",
       "\\newcommand{\\Bold}[1]{\\mathbf{#1}}v_{0} =  \\left(1,\\,1,\\,1\\right)\n",
       "\\end{math}"
      ],
      "text/plain": [
       "v_{0} =  (1, 1, 1)"
      ]
     },
     "metadata": {},
     "output_type": "display_data"
    },
    {
     "data": {
      "text/html": [
       "<html><script type=\"math/tex; mode=display\">\\newcommand{\\Bold}[1]{\\mathbf{#1}}\\lambda _1 = 5; k_1 = 1;</script></html>"
      ],
      "text/latex": [
       "\\begin{math}\n",
       "\\newcommand{\\Bold}[1]{\\mathbf{#1}}\\lambda _1 = 5; k_1 = 1;\n",
       "\\end{math}"
      ],
      "text/plain": [
       "\\lambda _1 = 5; k_1 = 1;"
      ]
     },
     "metadata": {},
     "output_type": "display_data"
    },
    {
     "data": {
      "text/html": [
       "<html><script type=\"math/tex; mode=display\">\\newcommand{\\Bold}[1]{\\mathbf{#1}}v_{1} =  \\left(0,\\,1,\\,1\\right)</script></html>"
      ],
      "text/latex": [
       "\\begin{math}\n",
       "\\newcommand{\\Bold}[1]{\\mathbf{#1}}v_{1} =  \\left(0,\\,1,\\,1\\right)\n",
       "\\end{math}"
      ],
      "text/plain": [
       "v_{1} =  (0, 1, 1)"
      ]
     },
     "metadata": {},
     "output_type": "display_data"
    },
    {
     "data": {
      "text/html": [
       "<html><script type=\"math/tex; mode=display\">\\newcommand{\\Bold}[1]{\\mathbf{#1}}\\lambda _2 = 1; k_2 = 1;</script></html>"
      ],
      "text/latex": [
       "\\begin{math}\n",
       "\\newcommand{\\Bold}[1]{\\mathbf{#1}}\\lambda _2 = 1; k_2 = 1;\n",
       "\\end{math}"
      ],
      "text/plain": [
       "\\lambda _2 = 1; k_2 = 1;"
      ]
     },
     "metadata": {},
     "output_type": "display_data"
    },
    {
     "data": {
      "text/html": [
       "<html><script type=\"math/tex; mode=display\">\\newcommand{\\Bold}[1]{\\mathbf{#1}}v_{2} =  \\left(1,\\,0,\\,-1\\right)</script></html>"
      ],
      "text/latex": [
       "\\begin{math}\n",
       "\\newcommand{\\Bold}[1]{\\mathbf{#1}}v_{2} =  \\left(1,\\,0,\\,-1\\right)\n",
       "\\end{math}"
      ],
      "text/plain": [
       "v_{2} =  (1, 0, -1)"
      ]
     },
     "metadata": {},
     "output_type": "display_data"
    }
   ],
   "source": [
    "A_eigvecs = A.eigenvectors_right()\n",
    "for eii, row in enumerate(A_eigvecs):\n",
    "    eival, eivecs, k = row\n",
    "    show(LatexExpr(fr\"\\lambda _{eii} = {eival}; k_{eii} = {k};\"))\n",
    "    for evi, vec in enumerate(eivecs):\n",
    "        show(LatexExpr(fr\"v_{{{eii}}} = \"), vec)"
   ]
  },
  {
   "cell_type": "markdown",
   "metadata": {},
   "source": [
    "Нахождение собственных векторов в базисе"
   ]
  },
  {
   "cell_type": "code",
   "execution_count": 11,
   "metadata": {},
   "outputs": [
    {
     "data": {
      "text/html": [
       "<html><script type=\"math/tex; mode=display\">\\newcommand{\\Bold}[1]{\\mathbf{#1}}\\verb|det(basis)=| 1</script></html>"
      ],
      "text/latex": [
       "\\begin{math}\n",
       "\\newcommand{\\Bold}[1]{\\mathbf{#1}}\\verb|det(basis)=| 1\n",
       "\\end{math}"
      ],
      "text/plain": [
       "'det(basis)=' 1"
      ]
     },
     "metadata": {},
     "output_type": "display_data"
    }
   ],
   "source": [
    "basis_T = matrix([[1, 1, 0], [1, -1, 1], [0, 1, -1]])\n",
    "basis_det = basis_T.det()\n",
    "show(\"det(basis)=\", basis_det)"
   ]
  },
  {
   "cell_type": "code",
   "execution_count": 12,
   "metadata": {},
   "outputs": [
    {
     "data": {
      "text/html": [
       "<html><script type=\"math/tex; mode=display\">\\newcommand{\\Bold}[1]{\\mathbf{#1}}\\left(\\begin{array}{rrr}\n",
       "9 & 4 & 0 \\\\\n",
       "-8 & 15 & -12 \\\\\n",
       "-12 & 12 & -11\n",
       "\\end{array}\\right)</script></html>"
      ],
      "text/latex": [
       "\\begin{math}\n",
       "\\newcommand{\\Bold}[1]{\\mathbf{#1}}\\left(\\begin{array}{rrr}\n",
       "9 & 4 & 0 \\\\\n",
       "-8 & 15 & -12 \\\\\n",
       "-12 & 12 & -11\n",
       "\\end{array}\\right)\n",
       "\\end{math}"
      ],
      "text/plain": [
       "[  9   4   0]\n",
       "[ -8  15 -12]\n",
       "[-12  12 -11]"
      ]
     },
     "metadata": {},
     "output_type": "display_data"
    }
   ],
   "source": [
    "A_in_new_basis = basis_T^-1*A*basis_T\n",
    "show(A_in_new_basis)"
   ]
  },
  {
   "cell_type": "markdown",
   "metadata": {},
   "source": [
    "Жорданова форма:"
   ]
  },
  {
   "cell_type": "markdown",
   "metadata": {},
   "source": [
    "Найдём $m$ для $\\lambda_i$."
   ]
  },
  {
   "cell_type": "code",
   "execution_count": 13,
   "metadata": {},
   "outputs": [
    {
     "data": {
      "text/html": [
       "<html><script type=\"math/tex; mode=display\">\\newcommand{\\Bold}[1]{\\mathbf{#1}}\\left(\\begin{array}{rrr}\n",
       "4 & -6 & 6 \\\\\n",
       "2 & 0 & 2 \\\\\n",
       "2 & 2 & 0\n",
       "\\end{array}\\right)</script></html>"
      ],
      "text/latex": [
       "\\begin{math}\n",
       "\\newcommand{\\Bold}[1]{\\mathbf{#1}}\\left(\\begin{array}{rrr}\n",
       "4 & -6 & 6 \\\\\n",
       "2 & 0 & 2 \\\\\n",
       "2 & 2 & 0\n",
       "\\end{array}\\right)\n",
       "\\end{math}"
      ],
      "text/plain": [
       "[ 4 -6  6]\n",
       "[ 2  0  2]\n",
       "[ 2  2  0]"
      ]
     },
     "metadata": {},
     "output_type": "display_data"
    },
    {
     "data": {
      "text/html": [
       "<html><script type=\"math/tex; mode=display\">\\newcommand{\\Bold}[1]{\\mathbf{#1}}\\verb|ступ.|\\phantom{\\verb!x!}\\verb|вид|\\phantom{\\verb!x!}\\verb|=| \\left(\\begin{array}{rrr}\n",
       "1 & 0 & 0 \\\\\n",
       "0 & 1 & 0 \\\\\n",
       "0 & 0 & 1\n",
       "\\end{array}\\right)</script></html>"
      ],
      "text/latex": [
       "\\begin{math}\n",
       "\\newcommand{\\Bold}[1]{\\mathbf{#1}}\\verb|ступ.|\\phantom{\\verb!x!}\\verb|вид|\\phantom{\\verb!x!}\\verb|=| \\left(\\begin{array}{rrr}\n",
       "1 & 0 & 0 \\\\\n",
       "0 & 1 & 0 \\\\\n",
       "0 & 0 & 1\n",
       "\\end{array}\\right)\n",
       "\\end{math}"
      ],
      "text/plain": [
       "'ступ. вид = ' [1 0 0]\n",
       "[0 1 0]\n",
       "[0 0 1]"
      ]
     },
     "metadata": {},
     "output_type": "display_data"
    },
    {
     "data": {
      "text/html": [
       "<html><script type=\"math/tex; mode=display\">\\newcommand{\\Bold}[1]{\\mathbf{#1}}\\verb|ранг|\\phantom{\\verb!x!}\\verb|=| 3</script></html>"
      ],
      "text/latex": [
       "\\begin{math}\n",
       "\\newcommand{\\Bold}[1]{\\mathbf{#1}}\\verb|ранг|\\phantom{\\verb!x!}\\verb|=| 3\n",
       "\\end{math}"
      ],
      "text/plain": [
       "'ранг = ' 3"
      ]
     },
     "metadata": {},
     "output_type": "display_data"
    }
   ],
   "source": [
    "AR = A - 3*identity_matrix(3)\n",
    "show(AR)\n",
    "show('ступ. вид = ', AR.echelon_form())\n",
    "show('ранг = ', rank(AR))"
   ]
  },
  {
   "cell_type": "markdown",
   "metadata": {},
   "source": [
    "Ищем такое $m$, начиная с $m=1$ и далее, что:\n",
    "<br> $rg((A - \\lambda _i\\cdot E)^m) \\neq n - k_i ...= 3 - 1 = 2$"
   ]
  },
  {
   "cell_type": "code",
   "execution_count": 14,
   "metadata": {},
   "outputs": [
    {
     "data": {
      "text/html": [
       "<html><script type=\"math/tex; mode=display\">\\newcommand{\\Bold}[1]{\\mathbf{#1}}\\verb|Жорданова|\\phantom{\\verb!x!}\\verb|форма|\\phantom{\\verb!x!}\\verb|матрицы|\\phantom{\\verb!x!}\\verb|в|\\phantom{\\verb!x!}\\verb|новом|\\phantom{\\verb!x!}\\verb|базисе:| \\left(\\begin{array}{r|r|r}\n",
       "7 & 0 & 0 \\\\\n",
       "\\hline\n",
       " 0 & 5 & 0 \\\\\n",
       "\\hline\n",
       " 0 & 0 & 1\n",
       "\\end{array}\\right)</script></html>"
      ],
      "text/latex": [
       "\\begin{math}\n",
       "\\newcommand{\\Bold}[1]{\\mathbf{#1}}\\verb|Жорданова|\\phantom{\\verb!x!}\\verb|форма|\\phantom{\\verb!x!}\\verb|матрицы|\\phantom{\\verb!x!}\\verb|в|\\phantom{\\verb!x!}\\verb|новом|\\phantom{\\verb!x!}\\verb|базисе:| \\left(\\begin{array}{r|r|r}\n",
       "7 & 0 & 0 \\\\\n",
       "\\hline\n",
       " 0 & 5 & 0 \\\\\n",
       "\\hline\n",
       " 0 & 0 & 1\n",
       "\\end{array}\\right)\n",
       "\\end{math}"
      ],
      "text/plain": [
       "'Жорданова форма матрицы в новом базисе:' [7|0|0]\n",
       "[-+-+-]\n",
       "[0|5|0]\n",
       "[-+-+-]\n",
       "[0|0|1]"
      ]
     },
     "metadata": {},
     "output_type": "display_data"
    }
   ],
   "source": [
    "show(\"Жорданова форма матрицы в новом базисе:\", A_in_new_basis.jordan_form())"
   ]
  },
  {
   "cell_type": "code",
   "execution_count": 15,
   "metadata": {},
   "outputs": [
    {
     "data": {
      "text/html": [
       "<html><script type=\"math/tex; mode=display\">\\newcommand{\\Bold}[1]{\\mathbf{#1}}\\verb|Собственные|\\phantom{\\verb!x!}\\verb|значения:| \\left[7, 5, 1\\right]</script></html>"
      ],
      "text/latex": [
       "\\begin{math}\n",
       "\\newcommand{\\Bold}[1]{\\mathbf{#1}}\\verb|Собственные|\\phantom{\\verb!x!}\\verb|значения:| \\left[7, 5, 1\\right]\n",
       "\\end{math}"
      ],
      "text/plain": [
       "'Собственные значения:' [7, 5, 1]"
      ]
     },
     "metadata": {},
     "output_type": "display_data"
    }
   ],
   "source": [
    "show(\"Собственные значения:\", A_in_new_basis.eigenvalues())"
   ]
  },
  {
   "cell_type": "markdown",
   "metadata": {},
   "source": [
    "Найдём матрицу перехода из канонического базиса в жорданов"
   ]
  },
  {
   "cell_type": "markdown",
   "metadata": {},
   "source": [
    "$$m = 1 \\rightarrow R_{m-1} = R_{1-1} = R_0 = (A - \\lambda _1 \\cdot E)^0 = E$$"
   ]
  },
  {
   "cell_type": "code",
   "execution_count": 16,
   "metadata": {},
   "outputs": [
    {
     "data": {
      "text/html": [
       "<html><script type=\"math/tex; mode=display\">\\newcommand{\\Bold}[1]{\\mathbf{#1}}R_0 = stepped = \\left(\\begin{array}{rrr}\n",
       "1 & 0 & 0 \\\\\n",
       "0 & 1 & 0 \\\\\n",
       "0 & 0 & 1\n",
       "\\end{array}\\right) = E</script></html>"
      ],
      "text/latex": [
       "\\begin{math}\n",
       "\\newcommand{\\Bold}[1]{\\mathbf{#1}}R_0 = stepped = \\left(\\begin{array}{rrr}\n",
       "1 & 0 & 0 \\\\\n",
       "0 & 1 & 0 \\\\\n",
       "0 & 0 & 1\n",
       "\\end{array}\\right) = E\n",
       "\\end{math}"
      ],
      "text/plain": [
       "R_0 = stepped = [1 0 0]\n",
       "[0 1 0]\n",
       "[0 0 1] = E"
      ]
     },
     "metadata": {},
     "output_type": "display_data"
    }
   ],
   "source": [
    "R_0 = (A - 3*identity_matrix(3))**0\n",
    "show(LatexExpr(\"R_0 = stepped =\"), R_0, LatexExpr(\"= E\"))"
   ]
  },
  {
   "cell_type": "code",
   "execution_count": 17,
   "metadata": {},
   "outputs": [
    {
     "data": {
      "text/html": [
       "<html><script type=\"math/tex; mode=display\">\\newcommand{\\Bold}[1]{\\mathbf{#1}}\\verb|Матрица|\\phantom{\\verb!x!}\\verb|перехода:| \\left(\\begin{array}{rrr}\n",
       "1 & 1 & 1 \\\\\n",
       "1 & 1 & -1 \\\\\n",
       "-1 & 1 & 1\n",
       "\\end{array}\\right)</script></html>"
      ],
      "text/latex": [
       "\\begin{math}\n",
       "\\newcommand{\\Bold}[1]{\\mathbf{#1}}\\verb|Матрица|\\phantom{\\verb!x!}\\verb|перехода:| \\left(\\begin{array}{rrr}\n",
       "1 & 1 & 1 \\\\\n",
       "1 & 1 & -1 \\\\\n",
       "-1 & 1 & 1\n",
       "\\end{array}\\right)\n",
       "\\end{math}"
      ],
      "text/plain": [
       "'Матрица перехода:' [ 1  1  1]\n",
       "[ 1  1 -1]\n",
       "[-1  1  1]"
      ]
     },
     "metadata": {},
     "output_type": "display_data"
    },
    {
     "data": {
      "text/html": [
       "<html><script type=\"math/tex; mode=display\">\\newcommand{\\Bold}[1]{\\mathbf{#1}}\\verb|Тогда|\\phantom{\\verb!x!}\\verb|жорданова|\\phantom{\\verb!x!}\\verb|форма|\\phantom{\\verb!x!}\\verb|матрицы:| \\left(\\begin{array}{rrr}\n",
       "-3 & 0 & 8 \\\\\n",
       "2 & 7 & 2 \\\\\n",
       "-4 & 0 & 9\n",
       "\\end{array}\\right)</script></html>"
      ],
      "text/latex": [
       "\\begin{math}\n",
       "\\newcommand{\\Bold}[1]{\\mathbf{#1}}\\verb|Тогда|\\phantom{\\verb!x!}\\verb|жорданова|\\phantom{\\verb!x!}\\verb|форма|\\phantom{\\verb!x!}\\verb|матрицы:| \\left(\\begin{array}{rrr}\n",
       "-3 & 0 & 8 \\\\\n",
       "2 & 7 & 2 \\\\\n",
       "-4 & 0 & 9\n",
       "\\end{array}\\right)\n",
       "\\end{math}"
      ],
      "text/plain": [
       "'Тогда жорданова форма матрицы:' [-3  0  8]\n",
       "[ 2  7  2]\n",
       "[-4  0  9]"
      ]
     },
     "metadata": {},
     "output_type": "display_data"
    }
   ],
   "source": [
    "new_T = matrix(QQ, [[1, 1, 1], [1, 1, -1], [-1, 1, 1]])\n",
    "show(\"Матрица перехода:\", new_T)\n",
    "show(\"Тогда жорданова форма матрицы:\", (new_T^-1) * A * new_T)"
   ]
  },
  {
   "cell_type": "markdown",
   "metadata": {},
   "source": [
    "Вычислим $A^{-1}$, $A^3$. По т. Кэли - Гамильтона выполним проверку."
   ]
  },
  {
   "cell_type": "code",
   "execution_count": 18,
   "metadata": {},
   "outputs": [
    {
     "data": {
      "text/html": [
       "<html><script type=\"math/tex; mode=display\">\\newcommand{\\Bold}[1]{\\mathbf{#1}}\\verb|A_cubic=| \\left(\\begin{array}{rrr}\n",
       "343 & -342 & 342 \\\\\n",
       "218 & -93 & 218 \\\\\n",
       "218 & -94 & 219\n",
       "\\end{array}\\right)</script></html>"
      ],
      "text/latex": [
       "\\begin{math}\n",
       "\\newcommand{\\Bold}[1]{\\mathbf{#1}}\\verb|A_cubic=| \\left(\\begin{array}{rrr}\n",
       "343 & -342 & 342 \\\\\n",
       "218 & -93 & 218 \\\\\n",
       "218 & -94 & 219\n",
       "\\end{array}\\right)\n",
       "\\end{math}"
      ],
      "text/plain": [
       "'A_cubic=' [ 343 -342  342]\n",
       "[ 218  -93  218]\n",
       "[ 218  -94  219]"
      ]
     },
     "metadata": {},
     "output_type": "display_data"
    },
    {
     "data": {
      "text/html": [
       "<html><script type=\"math/tex; mode=display\">\\newcommand{\\Bold}[1]{\\mathbf{#1}}\\verb|A_inv=| \\left(\\begin{array}{rrr}\n",
       "\\frac{1}{7} & \\frac{6}{7} & -\\frac{6}{7} \\\\\n",
       "-\\frac{2}{35} & \\frac{9}{35} & -\\frac{2}{35} \\\\\n",
       "-\\frac{2}{35} & -\\frac{26}{35} & \\frac{33}{35}\n",
       "\\end{array}\\right)</script></html>"
      ],
      "text/latex": [
       "\\begin{math}\n",
       "\\newcommand{\\Bold}[1]{\\mathbf{#1}}\\verb|A_inv=| \\left(\\begin{array}{rrr}\n",
       "\\frac{1}{7} & \\frac{6}{7} & -\\frac{6}{7} \\\\\n",
       "-\\frac{2}{35} & \\frac{9}{35} & -\\frac{2}{35} \\\\\n",
       "-\\frac{2}{35} & -\\frac{26}{35} & \\frac{33}{35}\n",
       "\\end{array}\\right)\n",
       "\\end{math}"
      ],
      "text/plain": [
       "'A_inv=' [   1/7    6/7   -6/7]\n",
       "[ -2/35   9/35  -2/35]\n",
       "[ -2/35 -26/35  33/35]"
      ]
     },
     "metadata": {},
     "output_type": "display_data"
    }
   ],
   "source": [
    "A_cubic = A^3\n",
    "A_inv = A^-1\n",
    "show(\"A_cubic=\", A_cubic)\n",
    "show(\"A_inv=\", A_inv)"
   ]
  },
  {
   "cell_type": "markdown",
   "metadata": {},
   "source": [
    "Проверка:"
   ]
  },
  {
   "cell_type": "code",
   "execution_count": 19,
   "metadata": {},
   "outputs": [
    {
     "data": {
      "text/html": [
       "<html><script type=\"math/tex; mode=display\">\\newcommand{\\Bold}[1]{\\mathbf{#1}}\\left(\\begin{array}{rrr}\n",
       "0 & 0 & 0 \\\\\n",
       "0 & 0 & 0 \\\\\n",
       "0 & 0 & 0\n",
       "\\end{array}\\right)</script></html>"
      ],
      "text/latex": [
       "\\begin{math}\n",
       "\\newcommand{\\Bold}[1]{\\mathbf{#1}}\\left(\\begin{array}{rrr}\n",
       "0 & 0 & 0 \\\\\n",
       "0 & 0 & 0 \\\\\n",
       "0 & 0 & 0\n",
       "\\end{array}\\right)\n",
       "\\end{math}"
      ],
      "text/plain": [
       "[0 0 0]\n",
       "[0 0 0]\n",
       "[0 0 0]"
      ]
     },
     "metadata": {},
     "output_type": "display_data"
    },
    {
     "data": {
      "text/html": [
       "<html><script type=\"math/tex; mode=display\">\\newcommand{\\Bold}[1]{\\mathbf{#1}}\\verb|poly=| x^{3} - 13 x^{2} + 47 x - 35</script></html>"
      ],
      "text/latex": [
       "\\begin{math}\n",
       "\\newcommand{\\Bold}[1]{\\mathbf{#1}}\\verb|poly=| x^{3} - 13 x^{2} + 47 x - 35\n",
       "\\end{math}"
      ],
      "text/plain": [
       "'poly=' x^3 - 13*x^2 + 47*x - 35"
      ]
     },
     "metadata": {},
     "output_type": "display_data"
    }
   ],
   "source": [
    "poly_equ = A.charpoly()\n",
    "show(poly_equ(x=A))\n",
    "show(\"poly=\", poly_equ)"
   ]
  },
  {
   "cell_type": "code",
   "execution_count": 20,
   "metadata": {},
   "outputs": [],
   "source": [
    "var(\"B\")\n",
    "with hold:\n",
    "    kelly_matrix = B^3 - 15*B^2 + 71* B - 105 *identity_matrix(3)"
   ]
  },
  {
   "cell_type": "code",
   "execution_count": 21,
   "metadata": {},
   "outputs": [
    {
     "data": {
      "text/html": [
       "<html><script type=\"math/tex; mode=display\">\\newcommand{\\Bold}[1]{\\mathbf{#1}}\\left(\\begin{array}{rrr}\n",
       "B^{3} - 15 \\, B^{2} + 71 \\, B - 105 & 0 & 0 \\\\\n",
       "0 & B^{3} - 15 \\, B^{2} + 71 \\, B - 105 & 0 \\\\\n",
       "0 & 0 & B^{3} - 15 \\, B^{2} + 71 \\, B - 105\n",
       "\\end{array}\\right)</script></html>"
      ],
      "text/latex": [
       "\\begin{math}\n",
       "\\newcommand{\\Bold}[1]{\\mathbf{#1}}\\left(\\begin{array}{rrr}\n",
       "B^{3} - 15 \\, B^{2} + 71 \\, B - 105 & 0 & 0 \\\\\n",
       "0 & B^{3} - 15 \\, B^{2} + 71 \\, B - 105 & 0 \\\\\n",
       "0 & 0 & B^{3} - 15 \\, B^{2} + 71 \\, B - 105\n",
       "\\end{array}\\right)\n",
       "\\end{math}"
      ],
      "text/plain": [
       "[B^3 - 15*B^2 + 71*B - 105                         0                         0]\n",
       "[                        0 B^3 - 15*B^2 + 71*B - 105                         0]\n",
       "[                        0                         0 B^3 - 15*B^2 + 71*B - 105]"
      ]
     },
     "metadata": {},
     "output_type": "display_data"
    }
   ],
   "source": [
    "show(kelly_matrix)"
   ]
  },
  {
   "cell_type": "code",
   "execution_count": 22,
   "metadata": {},
   "outputs": [
    {
     "data": {
      "text/html": [
       "<html><script type=\"math/tex; mode=display\">\\newcommand{\\Bold}[1]{\\mathbf{#1}}\\left(\\begin{array}{rrr}\n",
       "343 & -342 & 342 \\\\\n",
       "218 & -93 & 218 \\\\\n",
       "218 & -94 & 219\n",
       "\\end{array}\\right)-15\\cdot \\left(\\begin{array}{rrr}\n",
       "49 & -48 & 48 \\\\\n",
       "24 & 1 & 24 \\\\\n",
       "24 & 0 & 25\n",
       "\\end{array}\\right) + 71\\cdot \\left(\\begin{array}{rrr}\n",
       "7 & -6 & 6 \\\\\n",
       "2 & 3 & 2 \\\\\n",
       "2 & 2 & 3\n",
       "\\end{array}\\right) - \\left(\\begin{array}{rrr}\n",
       "105 & 0 & 0 \\\\\n",
       "0 & 105 & 0 \\\\\n",
       "0 & 0 & 105\n",
       "\\end{array}\\right) = 0</script></html>"
      ],
      "text/latex": [
       "\\begin{math}\n",
       "\\newcommand{\\Bold}[1]{\\mathbf{#1}}\\left(\\begin{array}{rrr}\n",
       "343 & -342 & 342 \\\\\n",
       "218 & -93 & 218 \\\\\n",
       "218 & -94 & 219\n",
       "\\end{array}\\right)-15\\cdot \\left(\\begin{array}{rrr}\n",
       "49 & -48 & 48 \\\\\n",
       "24 & 1 & 24 \\\\\n",
       "24 & 0 & 25\n",
       "\\end{array}\\right) + 71\\cdot \\left(\\begin{array}{rrr}\n",
       "7 & -6 & 6 \\\\\n",
       "2 & 3 & 2 \\\\\n",
       "2 & 2 & 3\n",
       "\\end{array}\\right) - \\left(\\begin{array}{rrr}\n",
       "105 & 0 & 0 \\\\\n",
       "0 & 105 & 0 \\\\\n",
       "0 & 0 & 105\n",
       "\\end{array}\\right) = 0\n",
       "\\end{math}"
      ],
      "text/plain": [
       "\\left(\\begin{array}{rrr}\n",
       "343 & -342 & 342 \\\\\n",
       "218 & -93 & 218 \\\\\n",
       "218 & -94 & 219\n",
       "\\end{array}\\right)-15\\cdot \\left(\\begin{array}{rrr}\n",
       "49 & -48 & 48 \\\\\n",
       "24 & 1 & 24 \\\\\n",
       "24 & 0 & 25\n",
       "\\end{array}\\right) + 71\\cdot \\left(\\begin{array}{rrr}\n",
       "7 & -6 & 6 \\\\\n",
       "2 & 3 & 2 \\\\\n",
       "2 & 2 & 3\n",
       "\\end{array}\\right) - \\left(\\begin{array}{rrr}\n",
       "105 & 0 & 0 \\\\\n",
       "0 & 105 & 0 \\\\\n",
       "0 & 0 & 105\n",
       "\\end{array}\\right) = 0"
      ]
     },
     "metadata": {},
     "output_type": "display_data"
    }
   ],
   "source": [
    "show(LatexExpr(fr\"{latex(A**3)}-15\\cdot {latex(A**2)} + 71\\cdot {latex(A)} - {latex(105*identity_matrix(3))} = 0\"))"
   ]
  },
  {
   "cell_type": "markdown",
   "metadata": {},
   "source": [
    "Тогда можем сделать вывод, что $A^{-1}$ и $A^3$ найдены верно."
   ]
  },
  {
   "cell_type": "code",
   "execution_count": null,
   "metadata": {},
   "outputs": [],
   "source": []
  }
 ],
 "metadata": {
  "kernelspec": {
   "display_name": "SageMath 9.2",
   "language": "sage",
   "name": "sagemath"
  },
  "language_info": {
   "codemirror_mode": {
    "name": "ipython",
    "version": 3
   },
   "file_extension": ".py",
   "mimetype": "text/x-python",
   "name": "python",
   "nbconvert_exporter": "python",
   "pygments_lexer": "ipython3",
   "version": "3.7.7"
  }
 },
 "nbformat": 4,
 "nbformat_minor": 4
}
