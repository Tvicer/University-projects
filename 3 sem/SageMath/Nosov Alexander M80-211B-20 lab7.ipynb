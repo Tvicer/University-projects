{
 "cells": [
  {
   "cell_type": "markdown",
   "metadata": {},
   "source": [
    "Задача 7 Носов Александр Вариант 3 "
   ]
  },
  {
   "cell_type": "markdown",
   "metadata": {},
   "source": [
    "Линейные преобразования и характеристическое уравнение матрицы"
   ]
  },
  {
   "cell_type": "code",
   "execution_count": 1,
   "metadata": {},
   "outputs": [
    {
     "data": {
      "text/html": [
       "<html><script type=\"math/tex; mode=display\">\\newcommand{\\Bold}[1]{\\mathbf{#1}}\\left(\\begin{array}{rrr}\n",
       "3 & 1 & -2 \\\\\n",
       "2 & 1 & -3 \\\\\n",
       "1 & 0 & -1\n",
       "\\end{array}\\right)</script></html>"
      ],
      "text/latex": [
       "\\begin{math}\n",
       "\\newcommand{\\Bold}[1]{\\mathbf{#1}}\\left(\\begin{array}{rrr}\n",
       "3 & 1 & -2 \\\\\n",
       "2 & 1 & -3 \\\\\n",
       "1 & 0 & -1\n",
       "\\end{array}\\right)\n",
       "\\end{math}"
      ],
      "text/plain": [
       "[ 3  1 -2]\n",
       "[ 2  1 -3]\n",
       "[ 1  0 -1]"
      ]
     },
     "metadata": {},
     "output_type": "display_data"
    }
   ],
   "source": [
    "A = matrix(QQ, \n",
    "           [[3, 1, -2],\n",
    "            [2, 1, -3],\n",
    "            [1, 0, -1]])\n",
    "show(A)"
   ]
  },
  {
   "cell_type": "code",
   "execution_count": 2,
   "metadata": {},
   "outputs": [
    {
     "data": {
      "text/html": [
       "<html><script type=\"math/tex; mode=display\">\\newcommand{\\Bold}[1]{\\mathbf{#1}}\\left(\\begin{array}{rrr}\n",
       "1 & 1 & 1 \\\\\n",
       "1 & 1 & 0 \\\\\n",
       "0 & 2 & 1\n",
       "\\end{array}\\right)</script></html>"
      ],
      "text/latex": [
       "\\begin{math}\n",
       "\\newcommand{\\Bold}[1]{\\mathbf{#1}}\\left(\\begin{array}{rrr}\n",
       "1 & 1 & 1 \\\\\n",
       "1 & 1 & 0 \\\\\n",
       "0 & 2 & 1\n",
       "\\end{array}\\right)\n",
       "\\end{math}"
      ],
      "text/plain": [
       "[1 1 1]\n",
       "[1 1 0]\n",
       "[0 2 1]"
      ]
     },
     "metadata": {},
     "output_type": "display_data"
    }
   ],
   "source": [
    "e_new = matrix(QQ, \n",
    "    [[1, 1, 1],\n",
    "    [1, 1, 0],\n",
    "    [0, 2, 1]])\n",
    "show(e_new)"
   ]
  },
  {
   "cell_type": "markdown",
   "metadata": {},
   "source": [
    "1) Переведём матрицу в новый базис:\n",
    "$A' = S^{-1}\\cdot A\\cdot S$"
   ]
  },
  {
   "cell_type": "code",
   "execution_count": 3,
   "metadata": {},
   "outputs": [
    {
     "data": {
      "text/html": [
       "<html><script type=\"math/tex; mode=display\">\\newcommand{\\Bold}[1]{\\mathbf{#1}}\\left(\\begin{array}{rrr}\n",
       "3 & -1 & 0 \\\\\n",
       "0 & -2 & -1 \\\\\n",
       "1 & 3 & 2\n",
       "\\end{array}\\right)</script></html>"
      ],
      "text/latex": [
       "\\begin{math}\n",
       "\\newcommand{\\Bold}[1]{\\mathbf{#1}}\\left(\\begin{array}{rrr}\n",
       "3 & -1 & 0 \\\\\n",
       "0 & -2 & -1 \\\\\n",
       "1 & 3 & 2\n",
       "\\end{array}\\right)\n",
       "\\end{math}"
      ],
      "text/plain": [
       "[ 3 -1  0]\n",
       "[ 0 -2 -1]\n",
       "[ 1  3  2]"
      ]
     },
     "metadata": {},
     "output_type": "display_data"
    }
   ],
   "source": [
    "A_new = e_new**(-1) * A * e_new\n",
    "show(A_new)"
   ]
  },
  {
   "cell_type": "markdown",
   "metadata": {},
   "source": [
    "2) Построим характеристические полиномы и проверим, что они совпадают.\n",
    "$\\phi_A(\\lambda) =|A - \\lambda E|$<br>"
   ]
  },
  {
   "cell_type": "code",
   "execution_count": 4,
   "metadata": {},
   "outputs": [
    {
     "data": {
      "text/html": [
       "<html><script type=\"math/tex; mode=display\">\\newcommand{\\Bold}[1]{\\mathbf{#1}}\\left(\\begin{array}{rrr}\n",
       "\\lambda_{x} - 3 & 1 & 0 \\\\\n",
       "0 & \\lambda_{x} + 2 & 1 \\\\\n",
       "-1 & -3 & \\lambda_{x} - 2\n",
       "\\end{array}\\right)</script></html>"
      ],
      "text/latex": [
       "\\begin{math}\n",
       "\\newcommand{\\Bold}[1]{\\mathbf{#1}}\\left(\\begin{array}{rrr}\n",
       "\\lambda_{x} - 3 & 1 & 0 \\\\\n",
       "0 & \\lambda_{x} + 2 & 1 \\\\\n",
       "-1 & -3 & \\lambda_{x} - 2\n",
       "\\end{array}\\right)\n",
       "\\end{math}"
      ],
      "text/plain": [
       "[lambda_x - 3            1            0]\n",
       "[           0 lambda_x + 2            1]\n",
       "[          -1           -3 lambda_x - 2]"
      ]
     },
     "metadata": {},
     "output_type": "display_data"
    }
   ],
   "source": [
    "var(\"lambda_x\")\n",
    "A_with_lamb = (lambda_x*identity_matrix(3) - A)\n",
    "A_new_with_lamb = (lambda_x*identity_matrix(3) - A_new)\n",
    "show(A_new_with_lamb)  "
   ]
  },
  {
   "cell_type": "markdown",
   "metadata": {},
   "source": [
    "3) Полчим зарактерестические числа преобразоования:"
   ]
  },
  {
   "cell_type": "code",
   "execution_count": 5,
   "metadata": {},
   "outputs": [
    {
     "data": {
      "text/html": [
       "<html><script type=\"math/tex; mode=display\">\\newcommand{\\Bold}[1]{\\mathbf{#1}}\\lambda_{x}^{3} - 3 \\, \\lambda_{x}^{2} - \\lambda_{x} + 2</script></html>"
      ],
      "text/latex": [
       "\\begin{math}\n",
       "\\newcommand{\\Bold}[1]{\\mathbf{#1}}\\lambda_{x}^{3} - 3 \\, \\lambda_{x}^{2} - \\lambda_{x} + 2\n",
       "\\end{math}"
      ],
      "text/plain": [
       "lambda_x^3 - 3*lambda_x^2 - lambda_x + 2"
      ]
     },
     "metadata": {},
     "output_type": "display_data"
    },
    {
     "data": {
      "text/html": [
       "<html><script type=\"math/tex; mode=display\">\\newcommand{\\Bold}[1]{\\mathbf{#1}}\\lambda_{x}^{3} - 3 \\, \\lambda_{x}^{2} - \\lambda_{x} + 2</script></html>"
      ],
      "text/latex": [
       "\\begin{math}\n",
       "\\newcommand{\\Bold}[1]{\\mathbf{#1}}\\lambda_{x}^{3} - 3 \\, \\lambda_{x}^{2} - \\lambda_{x} + 2\n",
       "\\end{math}"
      ],
      "text/plain": [
       "lambda_x^3 - 3*lambda_x^2 - lambda_x + 2"
      ]
     },
     "metadata": {},
     "output_type": "display_data"
    },
    {
     "data": {
      "text/html": [
       "<html><script type=\"math/tex; mode=display\">\\newcommand{\\Bold}[1]{\\mathbf{#1}}\\lambda_{x}^{3} - 3 \\, \\lambda_{x}^{2} - \\lambda_{x} + 2</script></html>"
      ],
      "text/latex": [
       "\\begin{math}\n",
       "\\newcommand{\\Bold}[1]{\\mathbf{#1}}\\lambda_{x}^{3} - 3 \\, \\lambda_{x}^{2} - \\lambda_{x} + 2\n",
       "\\end{math}"
      ],
      "text/plain": [
       "lambda_x^3 - 3*lambda_x^2 - lambda_x + 2"
      ]
     },
     "metadata": {},
     "output_type": "display_data"
    },
    {
     "data": {
      "text/html": [
       "<html><script type=\"math/tex; mode=display\">\\newcommand{\\Bold}[1]{\\mathbf{#1}}\\mathrm{True}</script></html>"
      ],
      "text/latex": [
       "\\begin{math}\n",
       "\\newcommand{\\Bold}[1]{\\mathbf{#1}}\\mathrm{True}\n",
       "\\end{math}"
      ],
      "text/plain": [
       "True"
      ]
     },
     "metadata": {},
     "output_type": "display_data"
    }
   ],
   "source": [
    "eq_with_lamb = det(A_new_with_lamb).expand()\n",
    "eq_with_lab_poly = A_new.charpoly(x)(x=lambda_x)\n",
    "show(eq_with_lab_poly)\n",
    "show(eq_with_lamb)\n",
    "show(eq_with_lab_poly)\n",
    "show(bool(eq_with_lab_poly == eq_with_lamb))"
   ]
  },
  {
   "cell_type": "code",
   "execution_count": 9,
   "metadata": {},
   "outputs": [],
   "source": [
    "sols = solve(eq_with_lamb, lambda_x)\n",
    "sols_list = []\n",
    "for sol in sols:\n",
    "    sols_list.append(sol.rhs().real().n(digits=5))\n",
    "\n",
    "\n",
    "sols_list = sorted(sols_list)"
   ]
  },
  {
   "cell_type": "markdown",
   "metadata": {},
   "source": [
    "Проверка"
   ]
  },
  {
   "cell_type": "code",
   "execution_count": 7,
   "metadata": {},
   "outputs": [
    {
     "data": {
      "text/html": [
       "<html><script type=\"math/tex; mode=display\">\\newcommand{\\Bold}[1]{\\mathbf{#1}}\\verb|Характеристические|\\phantom{\\verb!x!}\\verb|числа:|</script></html>"
      ],
      "text/latex": [
       "\\begin{math}\n",
       "\\newcommand{\\Bold}[1]{\\mathbf{#1}}\\verb|Характеристические|\\phantom{\\verb!x!}\\verb|числа:|\n",
       "\\end{math}"
      ],
      "text/plain": [
       "'Характеристические числа:'"
      ]
     },
     "metadata": {},
     "output_type": "display_data"
    },
    {
     "data": {
      "text/html": [
       "<html><script type=\"math/tex; mode=display\">\\newcommand{\\Bold}[1]{\\mathbf{#1}}\\verb|lambda_x1|\\phantom{\\verb!x!}\\verb|=| -0.86081</script></html>"
      ],
      "text/latex": [
       "\\begin{math}\n",
       "\\newcommand{\\Bold}[1]{\\mathbf{#1}}\\verb|lambda_x1|\\phantom{\\verb!x!}\\verb|=| -0.86081\n",
       "\\end{math}"
      ],
      "text/plain": [
       "'lambda_x1 = ' -0.86081"
      ]
     },
     "metadata": {},
     "output_type": "display_data"
    },
    {
     "data": {
      "text/html": [
       "<html><script type=\"math/tex; mode=display\">\\newcommand{\\Bold}[1]{\\mathbf{#1}}\\verb|lambda_x2|\\phantom{\\verb!x!}\\verb|=| 0.74590</script></html>"
      ],
      "text/latex": [
       "\\begin{math}\n",
       "\\newcommand{\\Bold}[1]{\\mathbf{#1}}\\verb|lambda_x2|\\phantom{\\verb!x!}\\verb|=| 0.74590\n",
       "\\end{math}"
      ],
      "text/plain": [
       "'lambda_x2 = ' 0.74590"
      ]
     },
     "metadata": {},
     "output_type": "display_data"
    },
    {
     "data": {
      "text/html": [
       "<html><script type=\"math/tex; mode=display\">\\newcommand{\\Bold}[1]{\\mathbf{#1}}\\verb|lambda_x3|\\phantom{\\verb!x!}\\verb|=| 3.1149</script></html>"
      ],
      "text/latex": [
       "\\begin{math}\n",
       "\\newcommand{\\Bold}[1]{\\mathbf{#1}}\\verb|lambda_x3|\\phantom{\\verb!x!}\\verb|=| 3.1149\n",
       "\\end{math}"
      ],
      "text/plain": [
       "'lambda_x3 = ' 3.1149"
      ]
     },
     "metadata": {},
     "output_type": "display_data"
    },
    {
     "data": {
      "text/html": [
       "<html><script type=\"math/tex; mode=display\">\\newcommand{\\Bold}[1]{\\mathbf{#1}}\\verb|True|</script></html>"
      ],
      "text/latex": [
       "\\begin{math}\n",
       "\\newcommand{\\Bold}[1]{\\mathbf{#1}}\\verb|True|\n",
       "\\end{math}"
      ],
      "text/plain": [
       "'True'"
      ]
     },
     "metadata": {},
     "output_type": "display_data"
    }
   ],
   "source": [
    "sols2 = sorted(A_new.eigenvalues())\n",
    "sols2_list = []\n",
    "for sol in sols2:\n",
    "    sols2_list.append(sol.real().n(digits=5))\n",
    "\n",
    "eps = 0.00001\n",
    "show(\"Характеристические числа:\")\n",
    "for i in range(len(sols_list)):\n",
    "    show(f\"lambda_x{i + 1} = \", sols_list[i])\n",
    "    if (sols_list[i].n(digits=5) - sols2_list[i].n(digits=5)) > eps:\n",
    "        show(\"False\")\n",
    "else:\n",
    "    show(\"True\")"
   ]
  },
  {
   "cell_type": "code",
   "execution_count": null,
   "metadata": {},
   "outputs": [],
   "source": []
  }
 ],
 "metadata": {
  "kernelspec": {
   "display_name": "SageMath 9.2",
   "language": "sage",
   "name": "sagemath"
  },
  "language_info": {
   "codemirror_mode": {
    "name": "ipython",
    "version": 3
   },
   "file_extension": ".py",
   "mimetype": "text/x-python",
   "name": "python",
   "nbconvert_exporter": "python",
   "pygments_lexer": "ipython3",
   "version": "3.7.7"
  }
 },
 "nbformat": 4,
 "nbformat_minor": 4
}
